{
 "cells": [
  {
   "cell_type": "markdown",
   "id": "c9b3d112",
   "metadata": {},
   "source": [
    "# Data Collection"
   ]
  },
  {
   "cell_type": "code",
   "execution_count": null,
   "id": "140e410a",
   "metadata": {},
   "outputs": [],
   "source": [
    "pip install textblob\n",
    "pip install selenium\n",
    "pip install webdriver_manager\n",
    "pip install dateparser"
   ]
  },
  {
   "cell_type": "code",
   "execution_count": 2,
   "id": "3c2a23d6-5832-4424-aed0-5ab05fa20719",
   "metadata": {},
   "outputs": [],
   "source": [
    "import numpy as np\n",
    "import pandas as pd\n",
    "import matplotlib.pyplot as plt\n",
    "import unicodedata\n",
    "import os\n",
    "import yfinance as yf\n",
    "import math\n",
    "import warnings\n",
    "warnings.filterwarnings(\"ignore\")"
   ]
  },
  {
   "cell_type": "code",
   "execution_count": 3,
   "id": "fbad0093-1e65-4a85-92c1-c1f9b628dd86",
   "metadata": {},
   "outputs": [],
   "source": [
    "import nltk\n",
    "from matplotlib.dates import DateFormatter\n",
    "import statistics"
   ]
  },
  {
   "cell_type": "code",
   "execution_count": 2,
   "id": "5dbd3c04-5f5b-48c2-b81a-8ae0eedbc281",
   "metadata": {},
   "outputs": [],
   "source": [
    "from selenium import webdriver\n",
    "from selenium.webdriver.common.by import By\n",
    "from selenium.webdriver.chrome.service import Service\n",
    "from selenium.webdriver.support.ui import WebDriverWait\n",
    "from selenium.webdriver.support import expected_conditions as EC\n",
    "from webdriver_manager.chrome import ChromeDriverManager\n",
    "nltk.download('vader_lexicon')\n",
    "nltk.download('punkt')\n",
    "nltk.download('wordnet')\n",
    "nltk.download('omw-1.4')\n",
    "nltk.download('stopwords')\n",
    "import time"
   ]
  },
  {
   "cell_type": "markdown",
   "id": "1f461da7",
   "metadata": {},
   "source": [
    "From Yahoo Finance Using Selenium"
   ]
  },
  {
   "cell_type": "code",
   "execution_count": null,
   "id": "d06abf98",
   "metadata": {},
   "outputs": [
    {
     "data": {
      "application/javascript": "\n        if (window._pyforest_update_imports_cell) { window._pyforest_update_imports_cell('import pandas as pd'); }\n    ",
      "text/plain": [
       "<IPython.core.display.Javascript object>"
      ]
     },
     "metadata": {},
     "output_type": "display_data"
    }
   ],
   "source": [
    "# Setup Selenium WebDriver\n",
    "service = Service(ChromeDriverManager().install())\n",
    "chrome_options = webdriver.ChromeOptions()\n",
    "chrome_options.add_argument(\"--headless\")  # Enable headless mode\n",
    "chrome_options.add_argument(\"--no-sandbox\")\n",
    "chrome_options.add_argument(\"--disable-dev-shm-usage\")\n",
    "driver = webdriver.Chrome(service=service, options=chrome_options)\n",
    "\n",
    "tickers = ['TSLA', 'SMCI', 'AMZN', 'AVGO', 'ALB', 'AAPL']\n",
    "\n",
    "def last_12_months(time_text):\n",
    "    if 'months' in time_text:\n",
    "        months = int(time_text.split()[0])\n",
    "        return months <= 12\n",
    "    return True\n",
    "\n",
    "# Initialize an empty DataFrame to collect all news\n",
    "headlines = pd.DataFrame()\n",
    "\n",
    "for ticker in tickers:\n",
    "    url = f'https://finance.yahoo.com/quote/{ticker}/news/'\n",
    "    driver.get(url)\n",
    "    time.sleep(4)\n",
    "    print(f'Collecting news related to {ticker}')\n",
    "    previous_height = driver.execute_script('return document.body.scrollHeight')\n",
    "    count = 0\n",
    "    news = []\n",
    "    \n",
    "    while True:\n",
    "        content_divs = driver.find_elements(By.CSS_SELECTOR, 'div.content.svelte-w27v8j')\n",
    "        \n",
    "        latest_time_text = ''\n",
    "        for content_div in content_divs:\n",
    "            try:\n",
    "                a_tag = content_div.find_element(By.CSS_SELECTOR, 'a.subtle-link.fin-size-small.titles.noUnderline.svelte-wdkn18')\n",
    "                title = a_tag.get_attribute('title') if a_tag else None\n",
    "                \n",
    "                publishing_div = content_div.find_element(By.CSS_SELECTOR, 'div.publishing.font-condensed.svelte-1k3af9g')\n",
    "                time_text = publishing_div.text.split('•')[-1].strip() if publishing_div else None\n",
    "                latest_time_text = time_text\n",
    "                if latest_time_text and last_12_months(latest_time_text):\n",
    "                    news.append({'Date': time_text, 'Headline': title, 'Stock Name': ticker})\n",
    "            except Exception as e:\n",
    "                print(f\"Error extracting data: {e}\")\n",
    "\n",
    "        driver.execute_script('window.scrollTo(0, document.body.scrollHeight)')\n",
    "        time.sleep(4)\n",
    "        new_height = driver.execute_script('return document.body.scrollHeight')\n",
    "        \n",
    "        if new_height == previous_height:\n",
    "            count += 1\n",
    "            if count > 4:\n",
    "                break\n",
    "        else:\n",
    "            previous_height = new_height\n",
    "            count = 0\n",
    "        \n",
    "        if latest_time_text and not last_12_months(latest_time_text):\n",
    "            break\n",
    "    \n",
    "    df_news = pd.DataFrame(news)\n",
    "    \n",
    "    if not df_news.empty:\n",
    "        print(f'Starting news related to {ticker} is {df_news[\"Date\"].iloc[0]}')\n",
    "        print(f'Ending news related to {ticker} is {df_news[\"Date\"].iloc[-1]}')\n",
    "        print('Dataset size is ', df_news.shape[0])\n",
    "        headlines = pd.concat([headlines, df_news], ignore_index=True)\n",
    "\n",
    "# Close the WebDriver\n",
    "driver.quit()"
   ]
  },
  {
   "cell_type": "code",
   "execution_count": null,
   "id": "0a3b3f20",
   "metadata": {},
   "outputs": [],
   "source": [
    "headlines.head()"
   ]
  },
  {
   "cell_type": "code",
   "execution_count": null,
   "id": "a38ef7f9",
   "metadata": {},
   "outputs": [],
   "source": [
    "from textblob import TextBlob, Word\n",
    "from datetime import datetime, timedelta\n",
    "import time"
   ]
  },
  {
   "cell_type": "code",
   "execution_count": null,
   "id": "b987165e",
   "metadata": {},
   "outputs": [],
   "source": [
    "# Function to convert relative time text to actual date\n",
    "def convert_to_date(time_text):\n",
    "    now = datetime.now()\n",
    "    if time_text == 'yesterday':\n",
    "        return now - timedelta(days=1)\n",
    "    if time_text == 'last month':\n",
    "        return now - timedelta(days=30)\n",
    "    if 'minute' in time_text:\n",
    "        minutes = int(time_text.split()[0])\n",
    "        return now - timedelta(minutes=minutes)\n",
    "    elif 'hour' in time_text:\n",
    "        hours = int(time_text.split()[0])\n",
    "        return now - timedelta(hours=hours)\n",
    "    elif 'day' in time_text:\n",
    "        days = int(time_text.split()[0])\n",
    "        return now - timedelta(days=days)\n",
    "    elif 'week' in time_text:\n",
    "        weeks = int(time_text.split()[0])\n",
    "        return now - timedelta(weeks=weeks)\n",
    "    elif 'month' in time_text:\n",
    "        months = int(time_text.split()[0])\n",
    "        return now - timedelta(days=30*months)\n",
    "    elif 'today' in time_text.lower():\n",
    "        return now\n",
    "    else:\n",
    "        return None\n",
    "headlines['Date'] = headlines['Date'].apply(convert_to_date)"
   ]
  },
  {
   "cell_type": "markdown",
   "id": "4261bfc9",
   "metadata": {},
   "source": [
    "From New York Times"
   ]
  },
  {
   "cell_type": "code",
   "execution_count": null,
   "id": "8e9d0bb6",
   "metadata": {},
   "outputs": [],
   "source": [
    "import pandas as pd\n",
    "import requests\n",
    "import time"
   ]
  },
  {
   "cell_type": "code",
   "execution_count": null,
   "id": "a0b6bf08-5879-4545-bc52-585ebaa1cf5d",
   "metadata": {},
   "outputs": [
    {
     "name": "stdout",
     "output_type": "stream",
     "text": [
      "Fetching data for 2019-1\n",
      "Fetching data for 2019-2\n"
     ]
    }
   ],
   "source": [
    "def fetch_data(year, month, api_key):\n",
    "    url = f\"https://api.nytimes.com/svc/archive/v1/{year}/{month}.json?api-key={api_key}\"\n",
    "    response = requests.get(url)\n",
    "    if response.status_code == 200:\n",
    "        data = response.json()\n",
    "        articles = data['response']['docs']\n",
    "        return articles\n",
    "    else:\n",
    "        print(f\"Failed to fetch data for {year}-{month}: {response.status_code}\")\n",
    "        return []\n",
    "\n",
    "# Initialize lists for headlines and dates\n",
    "all_headlines = []\n",
    "all_dates = []\n",
    "\n",
    "# API key\n",
    "api_key = ''\n",
    "\n",
    "# Fetch data for each year from 2010 to 2024\n",
    "for year in range(2019, 2025):\n",
    "    for month in range(1, 13):\n",
    "        print(f\"Fetching data for {year}-{month}\")\n",
    "        try:\n",
    "            articles = fetch_data(year, month, api_key)\n",
    "            if articles:\n",
    "                all_headlines.extend([article['headline']['main'] for article in articles])\n",
    "                all_dates.extend([article['pub_date'] for article in articles])\n",
    "            # Sleep to respect API rate limits\n",
    "            time.sleep(6)  # Adjust sleep time as needed based on API rate limits\n",
    "        except Exception as e:\n",
    "            print(f\"Error fetching data for {year}-{month}: {e}\")\n",
    "\n",
    "# Create a DataFrame\n",
    "df = pd.DataFrame({'datetime': all_dates, 'news': all_headlines})\n",
    "\n",
    "# Convert datetime column to datetime format\n",
    "df['datetime'] = pd.to_datetime(df['datetime'])\n",
    "\n",
    "# Extract date\n",
    "df['date'] = df['datetime'].dt.date\n",
    "\n",
    "# Filter articles containing information about Apple company stock\n",
    "keywords = ['Apple', 'AAPL', 'Apple Inc', 'Apple stock', 'Apple shares']\n",
    "df['contains_apple_stock_info'] = df['news'].apply(lambda x: any(keyword in x for keyword in keywords))\n",
    "\n",
    "# Create a filtered DataFrame\n",
    "apple_stock_df = df[df['contains_apple_stock_info']]\n",
    "\n",
    "# Group by date and concatenate news articles\n",
    "apple_df = apple_stock_df.groupby('date')['news'].agg(' '.join).reset_index()\n",
    "\n",
    "# Rename columns and convert Date to datetime format\n",
    "apple_df.columns = ['Date', 'news_articles']\n",
    "apple_df['Date'] = pd.to_datetime(apple_df['Date'])\n",
    "\n",
    "# Print the resulting DataFrame\n",
    "print(apple_df)\n"
   ]
  },
  {
   "cell_type": "code",
   "execution_count": null,
   "id": "a35ab1f6-8a60-4c6f-a426-a973a0e754bd",
   "metadata": {},
   "outputs": [],
   "source": [
    "apple_df.rename(columns={'news_articles': 'Headline'}, inplace=True)\n",
    "stock_name = 'AAPL'  # Replace with the actual stock name\n",
    "apple_df['Stock Name'] = stock_name"
   ]
  },
  {
   "cell_type": "code",
   "execution_count": 16,
   "id": "b0b1d87b-b088-40bf-8535-d5c1875e85f7",
   "metadata": {},
   "outputs": [
    {
     "data": {
      "text/plain": [
       "(282, 2)"
      ]
     },
     "execution_count": 16,
     "metadata": {},
     "output_type": "execute_result"
    }
   ],
   "source": [
    "apple_df.shape"
   ]
  },
  {
   "cell_type": "code",
   "execution_count": 30,
   "id": "f99162f6",
   "metadata": {},
   "outputs": [
    {
     "data": {
      "text/html": [
       "<div>\n",
       "<style scoped>\n",
       "    .dataframe tbody tr th:only-of-type {\n",
       "        vertical-align: middle;\n",
       "    }\n",
       "\n",
       "    .dataframe tbody tr th {\n",
       "        vertical-align: top;\n",
       "    }\n",
       "\n",
       "    .dataframe thead th {\n",
       "        text-align: right;\n",
       "    }\n",
       "</style>\n",
       "<table border=\"1\" class=\"dataframe\">\n",
       "  <thead>\n",
       "    <tr style=\"text-align: right;\">\n",
       "      <th></th>\n",
       "      <th>Date</th>\n",
       "      <th>Headline</th>\n",
       "      <th>Stock Name</th>\n",
       "    </tr>\n",
       "  </thead>\n",
       "  <tbody>\n",
       "    <tr>\n",
       "      <th>0</th>\n",
       "      <td>16 hours ago</td>\n",
       "      <td>Bullish S&amp;P 500 calls, weak China industrial o...</td>\n",
       "      <td>TSLA</td>\n",
       "    </tr>\n",
       "    <tr>\n",
       "      <th>1</th>\n",
       "      <td>18 hours ago</td>\n",
       "      <td>Tesla's 'aging portfolio' is a bigger issue th...</td>\n",
       "      <td>TSLA</td>\n",
       "    </tr>\n",
       "    <tr>\n",
       "      <th>2</th>\n",
       "      <td>59 minutes ago</td>\n",
       "      <td>Warren Buffett’s Berkshire Hathaway dumps BYD ...</td>\n",
       "      <td>TSLA</td>\n",
       "    </tr>\n",
       "    <tr>\n",
       "      <th>3</th>\n",
       "      <td>1 hour ago</td>\n",
       "      <td>Trending tickers: Apple, Palantir, Tesla and W...</td>\n",
       "      <td>TSLA</td>\n",
       "    </tr>\n",
       "    <tr>\n",
       "      <th>4</th>\n",
       "      <td>3 hours ago</td>\n",
       "      <td>Musk plans stock option grants to Tesla's high...</td>\n",
       "      <td>TSLA</td>\n",
       "    </tr>\n",
       "  </tbody>\n",
       "</table>\n",
       "</div>"
      ],
      "text/plain": [
       "             Date                                           Headline  \\\n",
       "0    16 hours ago  Bullish S&P 500 calls, weak China industrial o...   \n",
       "1    18 hours ago  Tesla's 'aging portfolio' is a bigger issue th...   \n",
       "2  59 minutes ago  Warren Buffett’s Berkshire Hathaway dumps BYD ...   \n",
       "3      1 hour ago  Trending tickers: Apple, Palantir, Tesla and W...   \n",
       "4     3 hours ago  Musk plans stock option grants to Tesla's high...   \n",
       "\n",
       "  Stock Name  \n",
       "0       TSLA  \n",
       "1       TSLA  \n",
       "2       TSLA  \n",
       "3       TSLA  \n",
       "4       TSLA  "
      ]
     },
     "execution_count": 30,
     "metadata": {},
     "output_type": "execute_result"
    }
   ],
   "source": [
    "headlines.head()"
   ]
  },
  {
   "cell_type": "code",
   "execution_count": 6,
   "id": "adbdd675",
   "metadata": {},
   "outputs": [
    {
     "data": {
      "text/html": [
       "<div>\n",
       "<style scoped>\n",
       "    .dataframe tbody tr th:only-of-type {\n",
       "        vertical-align: middle;\n",
       "    }\n",
       "\n",
       "    .dataframe tbody tr th {\n",
       "        vertical-align: top;\n",
       "    }\n",
       "\n",
       "    .dataframe thead th {\n",
       "        text-align: right;\n",
       "    }\n",
       "</style>\n",
       "<table border=\"1\" class=\"dataframe\">\n",
       "  <thead>\n",
       "    <tr style=\"text-align: right;\">\n",
       "      <th></th>\n",
       "      <th>Date</th>\n",
       "      <th>Headline</th>\n",
       "      <th>Stock Name</th>\n",
       "    </tr>\n",
       "  </thead>\n",
       "  <tbody>\n",
       "    <tr>\n",
       "      <th>6965</th>\n",
       "      <td>6 days ago</td>\n",
       "      <td>Apple’s AI: We’ve seen some of this before</td>\n",
       "      <td>AAPL</td>\n",
       "    </tr>\n",
       "    <tr>\n",
       "      <th>6966</th>\n",
       "      <td>6 days ago</td>\n",
       "      <td>S&amp;P 500, Nasdaq Extend Rallies Ahead of Fed De...</td>\n",
       "      <td>AAPL</td>\n",
       "    </tr>\n",
       "    <tr>\n",
       "      <th>6967</th>\n",
       "      <td>6 days ago</td>\n",
       "      <td>Apple Stock Closes at a New High. Investors Li...</td>\n",
       "      <td>AAPL</td>\n",
       "    </tr>\n",
       "    <tr>\n",
       "      <th>6968</th>\n",
       "      <td>6 days ago</td>\n",
       "      <td>Apple’s Stock Finished the Day at a Record High</td>\n",
       "      <td>AAPL</td>\n",
       "    </tr>\n",
       "    <tr>\n",
       "      <th>6969</th>\n",
       "      <td>6 days ago</td>\n",
       "      <td>Apple Stock (NASDAQ:AAPL): Still a Golden Oppo...</td>\n",
       "      <td>AAPL</td>\n",
       "    </tr>\n",
       "  </tbody>\n",
       "</table>\n",
       "</div>"
      ],
      "text/plain": [
       "            Date                                           Headline Stock Name\n",
       "6965  6 days ago         Apple’s AI: We’ve seen some of this before       AAPL\n",
       "6966  6 days ago  S&P 500, Nasdaq Extend Rallies Ahead of Fed De...       AAPL\n",
       "6967  6 days ago  Apple Stock Closes at a New High. Investors Li...       AAPL\n",
       "6968  6 days ago    Apple’s Stock Finished the Day at a Record High       AAPL\n",
       "6969  6 days ago  Apple Stock (NASDAQ:AAPL): Still a Golden Oppo...       AAPL"
      ]
     },
     "execution_count": 6,
     "metadata": {},
     "output_type": "execute_result"
    }
   ],
   "source": [
    "headlines.tail()"
   ]
  },
  {
   "cell_type": "code",
   "execution_count": 7,
   "id": "eb6ee1c3",
   "metadata": {},
   "outputs": [
    {
     "data": {
      "text/plain": [
       "(6970, 3)"
      ]
     },
     "execution_count": 7,
     "metadata": {},
     "output_type": "execute_result"
    }
   ],
   "source": [
    "headlines.shape"
   ]
  },
  {
   "cell_type": "markdown",
   "id": "8970e709",
   "metadata": {},
   "source": [
    "Stock Price data from Yahoo Finance"
   ]
  },
  {
   "cell_type": "code",
   "execution_count": 9,
   "id": "e98b29e3",
   "metadata": {},
   "outputs": [
    {
     "name": "stdout",
     "output_type": "stream",
     "text": [
      "[*********************100%%**********************]  1 of 1 completed\n",
      "[*********************100%%**********************]  1 of 1 completed\n",
      "[*********************100%%**********************]  1 of 1 completed\n",
      "[*********************100%%**********************]  1 of 1 completed\n",
      "[*********************100%%**********************]  1 of 1 completed\n",
      "[*********************100%%**********************]  1 of 1 completed\n"
     ]
    }
   ],
   "source": [
    "tickers = ['TSLA', 'SMCI', 'AMZN', 'AVGO', 'ALB', 'AAPL']\n",
    "Stock=pd.DataFrame()  # Example ticker symbol for Apple\n",
    "start_date = \"2018-07-01\"  # Specify start date\n",
    "end_date = \"2024-06-14\"   \n",
    "dfs = [] \n",
    "for ticker in tickers:\n",
    "    data = yf.download(ticker, start=start_date, end=end_date).reset_index()  # Reset index to make 'Date' a column\n",
    "    data['Stock Name'] = ticker  # Add a column for the ticker symbol\n",
    "    dfs.append(data)\n",
    "\n",
    "# Combine all individual dataframes into a single dataframe\n",
    "Stock = pd.concat(dfs, ignore_index=True)\n",
    "\n",
    "# Reorder columns as per the desired format\n",
    "Stock = Stock[['Date', 'Open', 'High', 'Low', 'Close', 'Adj Close', 'Volume', 'Stock Name']]"
   ]
  },
  {
   "cell_type": "code",
   "execution_count": 32,
   "id": "37319a22-8717-4ad2-ace3-1ded9332edcf",
   "metadata": {},
   "outputs": [
    {
     "data": {
      "text/html": [
       "<div>\n",
       "<style scoped>\n",
       "    .dataframe tbody tr th:only-of-type {\n",
       "        vertical-align: middle;\n",
       "    }\n",
       "\n",
       "    .dataframe tbody tr th {\n",
       "        vertical-align: top;\n",
       "    }\n",
       "\n",
       "    .dataframe thead th {\n",
       "        text-align: right;\n",
       "    }\n",
       "</style>\n",
       "<table border=\"1\" class=\"dataframe\">\n",
       "  <thead>\n",
       "    <tr style=\"text-align: right;\">\n",
       "      <th></th>\n",
       "      <th>Date</th>\n",
       "      <th>Open</th>\n",
       "      <th>High</th>\n",
       "      <th>Low</th>\n",
       "      <th>Close</th>\n",
       "      <th>Adj Close</th>\n",
       "      <th>Volume</th>\n",
       "      <th>Stock Name</th>\n",
       "      <th>Pct Change</th>\n",
       "    </tr>\n",
       "  </thead>\n",
       "  <tbody>\n",
       "    <tr>\n",
       "      <th>0</th>\n",
       "      <td>2018-07-02</td>\n",
       "      <td>24.004667</td>\n",
       "      <td>24.318666</td>\n",
       "      <td>21.990000</td>\n",
       "      <td>22.337999</td>\n",
       "      <td>22.337999</td>\n",
       "      <td>281397000</td>\n",
       "      <td>TSLA</td>\n",
       "      <td>NaN</td>\n",
       "    </tr>\n",
       "    <tr>\n",
       "      <th>1</th>\n",
       "      <td>2018-07-03</td>\n",
       "      <td>22.116667</td>\n",
       "      <td>22.166000</td>\n",
       "      <td>20.646000</td>\n",
       "      <td>20.724001</td>\n",
       "      <td>20.724001</td>\n",
       "      <td>184239000</td>\n",
       "      <td>TSLA</td>\n",
       "      <td>-7.225349</td>\n",
       "    </tr>\n",
       "    <tr>\n",
       "      <th>2</th>\n",
       "      <td>2018-07-05</td>\n",
       "      <td>20.917334</td>\n",
       "      <td>20.959333</td>\n",
       "      <td>19.747999</td>\n",
       "      <td>20.610666</td>\n",
       "      <td>20.610666</td>\n",
       "      <td>262146000</td>\n",
       "      <td>TSLA</td>\n",
       "      <td>-0.546876</td>\n",
       "    </tr>\n",
       "    <tr>\n",
       "      <th>3</th>\n",
       "      <td>2018-07-06</td>\n",
       "      <td>20.330000</td>\n",
       "      <td>20.804667</td>\n",
       "      <td>20.133333</td>\n",
       "      <td>20.593332</td>\n",
       "      <td>20.593332</td>\n",
       "      <td>132982500</td>\n",
       "      <td>TSLA</td>\n",
       "      <td>-0.084102</td>\n",
       "    </tr>\n",
       "    <tr>\n",
       "      <th>4</th>\n",
       "      <td>2018-07-09</td>\n",
       "      <td>20.799334</td>\n",
       "      <td>21.234667</td>\n",
       "      <td>20.533333</td>\n",
       "      <td>21.233999</td>\n",
       "      <td>21.233999</td>\n",
       "      <td>113952000</td>\n",
       "      <td>TSLA</td>\n",
       "      <td>3.111041</td>\n",
       "    </tr>\n",
       "  </tbody>\n",
       "</table>\n",
       "</div>"
      ],
      "text/plain": [
       "         Date       Open       High        Low      Close  Adj Close  \\\n",
       "0  2018-07-02  24.004667  24.318666  21.990000  22.337999  22.337999   \n",
       "1  2018-07-03  22.116667  22.166000  20.646000  20.724001  20.724001   \n",
       "2  2018-07-05  20.917334  20.959333  19.747999  20.610666  20.610666   \n",
       "3  2018-07-06  20.330000  20.804667  20.133333  20.593332  20.593332   \n",
       "4  2018-07-09  20.799334  21.234667  20.533333  21.233999  21.233999   \n",
       "\n",
       "      Volume Stock Name  Pct Change  \n",
       "0  281397000       TSLA         NaN  \n",
       "1  184239000       TSLA   -7.225349  \n",
       "2  262146000       TSLA   -0.546876  \n",
       "3  132982500       TSLA   -0.084102  \n",
       "4  113952000       TSLA    3.111041  "
      ]
     },
     "execution_count": 32,
     "metadata": {},
     "output_type": "execute_result"
    }
   ],
   "source": [
    "Stock[\"Date\"] = pd.to_datetime(Stock['Date'])\n",
    "Stock[\"Date\"] = Stock[\"Date\"].dt.date\n",
    "Stock.head()"
   ]
  },
  {
   "cell_type": "code",
   "execution_count": 10,
   "id": "352d7073",
   "metadata": {},
   "outputs": [
    {
     "data": {
      "text/html": [
       "<div>\n",
       "<style scoped>\n",
       "    .dataframe tbody tr th:only-of-type {\n",
       "        vertical-align: middle;\n",
       "    }\n",
       "\n",
       "    .dataframe tbody tr th {\n",
       "        vertical-align: top;\n",
       "    }\n",
       "\n",
       "    .dataframe thead th {\n",
       "        text-align: right;\n",
       "    }\n",
       "</style>\n",
       "<table border=\"1\" class=\"dataframe\">\n",
       "  <thead>\n",
       "    <tr style=\"text-align: right;\">\n",
       "      <th></th>\n",
       "      <th>Date</th>\n",
       "      <th>Open</th>\n",
       "      <th>High</th>\n",
       "      <th>Low</th>\n",
       "      <th>Close</th>\n",
       "      <th>Adj Close</th>\n",
       "      <th>Volume</th>\n",
       "      <th>Stock Name</th>\n",
       "    </tr>\n",
       "  </thead>\n",
       "  <tbody>\n",
       "    <tr>\n",
       "      <th>0</th>\n",
       "      <td>2018-07-02</td>\n",
       "      <td>24.004667</td>\n",
       "      <td>24.318666</td>\n",
       "      <td>21.990000</td>\n",
       "      <td>22.337999</td>\n",
       "      <td>22.337999</td>\n",
       "      <td>281397000</td>\n",
       "      <td>TSLA</td>\n",
       "    </tr>\n",
       "    <tr>\n",
       "      <th>1</th>\n",
       "      <td>2018-07-03</td>\n",
       "      <td>22.116667</td>\n",
       "      <td>22.166000</td>\n",
       "      <td>20.646000</td>\n",
       "      <td>20.724001</td>\n",
       "      <td>20.724001</td>\n",
       "      <td>184239000</td>\n",
       "      <td>TSLA</td>\n",
       "    </tr>\n",
       "    <tr>\n",
       "      <th>2</th>\n",
       "      <td>2018-07-05</td>\n",
       "      <td>20.917334</td>\n",
       "      <td>20.959333</td>\n",
       "      <td>19.747999</td>\n",
       "      <td>20.610666</td>\n",
       "      <td>20.610666</td>\n",
       "      <td>262146000</td>\n",
       "      <td>TSLA</td>\n",
       "    </tr>\n",
       "    <tr>\n",
       "      <th>3</th>\n",
       "      <td>2018-07-06</td>\n",
       "      <td>20.330000</td>\n",
       "      <td>20.804667</td>\n",
       "      <td>20.133333</td>\n",
       "      <td>20.593332</td>\n",
       "      <td>20.593332</td>\n",
       "      <td>132982500</td>\n",
       "      <td>TSLA</td>\n",
       "    </tr>\n",
       "    <tr>\n",
       "      <th>4</th>\n",
       "      <td>2018-07-09</td>\n",
       "      <td>20.799334</td>\n",
       "      <td>21.234667</td>\n",
       "      <td>20.533333</td>\n",
       "      <td>21.233999</td>\n",
       "      <td>21.233999</td>\n",
       "      <td>113952000</td>\n",
       "      <td>TSLA</td>\n",
       "    </tr>\n",
       "  </tbody>\n",
       "</table>\n",
       "</div>"
      ],
      "text/plain": [
       "        Date       Open       High        Low      Close  Adj Close  \\\n",
       "0 2018-07-02  24.004667  24.318666  21.990000  22.337999  22.337999   \n",
       "1 2018-07-03  22.116667  22.166000  20.646000  20.724001  20.724001   \n",
       "2 2018-07-05  20.917334  20.959333  19.747999  20.610666  20.610666   \n",
       "3 2018-07-06  20.330000  20.804667  20.133333  20.593332  20.593332   \n",
       "4 2018-07-09  20.799334  21.234667  20.533333  21.233999  21.233999   \n",
       "\n",
       "      Volume Stock Name  \n",
       "0  281397000       TSLA  \n",
       "1  184239000       TSLA  \n",
       "2  262146000       TSLA  \n",
       "3  132982500       TSLA  \n",
       "4  113952000       TSLA  "
      ]
     },
     "execution_count": 10,
     "metadata": {},
     "output_type": "execute_result"
    }
   ],
   "source": [
    "Stock.head()"
   ]
  },
  {
   "cell_type": "code",
   "execution_count": 15,
   "id": "07d62da3-6b3c-4f9b-9a35-99f9d2a7b3be",
   "metadata": {},
   "outputs": [],
   "source": [
    "Stock['Pct Change'] = Stock.groupby('Stock Name')['Adj Close'].pct_change() * 100"
   ]
  },
  {
   "cell_type": "code",
   "execution_count": 16,
   "id": "68a91918-1047-47dc-b973-6e1ab32f35c9",
   "metadata": {},
   "outputs": [
    {
     "data": {
      "text/html": [
       "<div>\n",
       "<style scoped>\n",
       "    .dataframe tbody tr th:only-of-type {\n",
       "        vertical-align: middle;\n",
       "    }\n",
       "\n",
       "    .dataframe tbody tr th {\n",
       "        vertical-align: top;\n",
       "    }\n",
       "\n",
       "    .dataframe thead th {\n",
       "        text-align: right;\n",
       "    }\n",
       "</style>\n",
       "<table border=\"1\" class=\"dataframe\">\n",
       "  <thead>\n",
       "    <tr style=\"text-align: right;\">\n",
       "      <th></th>\n",
       "      <th>Date</th>\n",
       "      <th>Open</th>\n",
       "      <th>High</th>\n",
       "      <th>Low</th>\n",
       "      <th>Close</th>\n",
       "      <th>Adj Close</th>\n",
       "      <th>Volume</th>\n",
       "      <th>Stock Name</th>\n",
       "      <th>Pct Change</th>\n",
       "    </tr>\n",
       "  </thead>\n",
       "  <tbody>\n",
       "    <tr>\n",
       "      <th>0</th>\n",
       "      <td>2018-07-02</td>\n",
       "      <td>24.004667</td>\n",
       "      <td>24.318666</td>\n",
       "      <td>21.990000</td>\n",
       "      <td>22.337999</td>\n",
       "      <td>22.337999</td>\n",
       "      <td>281397000</td>\n",
       "      <td>TSLA</td>\n",
       "      <td>NaN</td>\n",
       "    </tr>\n",
       "    <tr>\n",
       "      <th>1</th>\n",
       "      <td>2018-07-03</td>\n",
       "      <td>22.116667</td>\n",
       "      <td>22.166000</td>\n",
       "      <td>20.646000</td>\n",
       "      <td>20.724001</td>\n",
       "      <td>20.724001</td>\n",
       "      <td>184239000</td>\n",
       "      <td>TSLA</td>\n",
       "      <td>-7.225349</td>\n",
       "    </tr>\n",
       "    <tr>\n",
       "      <th>2</th>\n",
       "      <td>2018-07-05</td>\n",
       "      <td>20.917334</td>\n",
       "      <td>20.959333</td>\n",
       "      <td>19.747999</td>\n",
       "      <td>20.610666</td>\n",
       "      <td>20.610666</td>\n",
       "      <td>262146000</td>\n",
       "      <td>TSLA</td>\n",
       "      <td>-0.546876</td>\n",
       "    </tr>\n",
       "    <tr>\n",
       "      <th>3</th>\n",
       "      <td>2018-07-06</td>\n",
       "      <td>20.330000</td>\n",
       "      <td>20.804667</td>\n",
       "      <td>20.133333</td>\n",
       "      <td>20.593332</td>\n",
       "      <td>20.593332</td>\n",
       "      <td>132982500</td>\n",
       "      <td>TSLA</td>\n",
       "      <td>-0.084102</td>\n",
       "    </tr>\n",
       "    <tr>\n",
       "      <th>4</th>\n",
       "      <td>2018-07-09</td>\n",
       "      <td>20.799334</td>\n",
       "      <td>21.234667</td>\n",
       "      <td>20.533333</td>\n",
       "      <td>21.233999</td>\n",
       "      <td>21.233999</td>\n",
       "      <td>113952000</td>\n",
       "      <td>TSLA</td>\n",
       "      <td>3.111041</td>\n",
       "    </tr>\n",
       "  </tbody>\n",
       "</table>\n",
       "</div>"
      ],
      "text/plain": [
       "        Date       Open       High        Low      Close  Adj Close  \\\n",
       "0 2018-07-02  24.004667  24.318666  21.990000  22.337999  22.337999   \n",
       "1 2018-07-03  22.116667  22.166000  20.646000  20.724001  20.724001   \n",
       "2 2018-07-05  20.917334  20.959333  19.747999  20.610666  20.610666   \n",
       "3 2018-07-06  20.330000  20.804667  20.133333  20.593332  20.593332   \n",
       "4 2018-07-09  20.799334  21.234667  20.533333  21.233999  21.233999   \n",
       "\n",
       "      Volume Stock Name  Pct Change  \n",
       "0  281397000       TSLA         NaN  \n",
       "1  184239000       TSLA   -7.225349  \n",
       "2  262146000       TSLA   -0.546876  \n",
       "3  132982500       TSLA   -0.084102  \n",
       "4  113952000       TSLA    3.111041  "
      ]
     },
     "execution_count": 16,
     "metadata": {},
     "output_type": "execute_result"
    }
   ],
   "source": [
    "Stock.head()"
   ]
  },
  {
   "cell_type": "code",
   "execution_count": 12,
   "id": "03002f3b",
   "metadata": {},
   "outputs": [
    {
     "data": {
      "text/plain": [
       "Stock Name\n",
       "TSLA    240\n",
       "SMCI    240\n",
       "AMZN    240\n",
       "AVGO    240\n",
       "ALB     240\n",
       "AAPL    240\n",
       "Name: count, dtype: int64"
      ]
     },
     "execution_count": 12,
     "metadata": {},
     "output_type": "execute_result"
    }
   ],
   "source": [
    "Stock['Stock Name'].value_counts()"
   ]
  },
  {
   "cell_type": "code",
   "execution_count": 24,
   "id": "7ca9c750",
   "metadata": {},
   "outputs": [
    {
     "data": {
      "text/plain": [
       "(2400, 8)"
      ]
     },
     "execution_count": 24,
     "metadata": {},
     "output_type": "execute_result"
    }
   ],
   "source": [
    "Stock.shape"
   ]
  },
  {
   "cell_type": "code",
   "execution_count": 18,
   "id": "9a98845a",
   "metadata": {},
   "outputs": [
    {
     "name": "stdout",
     "output_type": "stream",
     "text": [
      "['TSLA' 'SMCI' 'AMZN' 'AVGO' 'ALB' 'AAPL']\n"
     ]
    }
   ],
   "source": [
    "print(headlines['Stock Name'].unique())"
   ]
  },
  {
   "cell_type": "code",
   "execution_count": 19,
   "id": "430b8d3e",
   "metadata": {},
   "outputs": [
    {
     "data": {
      "text/plain": [
       "(6970, 3)"
      ]
     },
     "execution_count": 19,
     "metadata": {},
     "output_type": "execute_result"
    }
   ],
   "source": [
    "headlines.shape"
   ]
  },
  {
   "cell_type": "markdown",
   "id": "4ee7e18c",
   "metadata": {},
   "source": [
    "Concating all Collected Data"
   ]
  },
  {
   "cell_type": "code",
   "execution_count": 61,
   "id": "c4e4c8f3-b0ed-4c0e-a172-e960a7f486a0",
   "metadata": {},
   "outputs": [],
   "source": [
    "headlines = pd.concat([headlines, apple_df], ignore_index=True)"
   ]
  },
  {
   "cell_type": "markdown",
   "id": "23e8d5bd",
   "metadata": {},
   "source": [
    "## Calculating Polarity Score for Sentiment analysis"
   ]
  },
  {
   "cell_type": "code",
   "execution_count": null,
   "id": "00ea7662",
   "metadata": {},
   "outputs": [],
   "source": [
    "from sklearn.model_selection import train_test_split\n",
    "from sklearn.feature_extraction.text import TfidfVectorizer\n",
    "from sklearn.ensemble import RandomForestClassifier\n",
    "from sklearn.model_selection import cross_val_score\n",
    "from nltk.corpus import stopwords\n",
    "from sklearn.preprocessing import LabelEncoder"
   ]
  },
  {
   "cell_type": "code",
   "execution_count": 33,
   "id": "236c141b",
   "metadata": {},
   "outputs": [
    {
     "data": {
      "text/html": [
       "<div>\n",
       "<style scoped>\n",
       "    .dataframe tbody tr th:only-of-type {\n",
       "        vertical-align: middle;\n",
       "    }\n",
       "\n",
       "    .dataframe tbody tr th {\n",
       "        vertical-align: top;\n",
       "    }\n",
       "\n",
       "    .dataframe thead th {\n",
       "        text-align: right;\n",
       "    }\n",
       "</style>\n",
       "<table border=\"1\" class=\"dataframe\">\n",
       "  <thead>\n",
       "    <tr style=\"text-align: right;\">\n",
       "      <th></th>\n",
       "      <th>Date</th>\n",
       "      <th>Headline</th>\n",
       "      <th>Stock Name</th>\n",
       "      <th>polarity_score</th>\n",
       "    </tr>\n",
       "  </thead>\n",
       "  <tbody>\n",
       "    <tr>\n",
       "      <th>0</th>\n",
       "      <td>2024-06-19 22:16:07.654294</td>\n",
       "      <td>Bullish S&amp;P 500 calls, weak China industrial o...</td>\n",
       "      <td>TSLA</td>\n",
       "      <td></td>\n",
       "    </tr>\n",
       "    <tr>\n",
       "      <th>1</th>\n",
       "      <td>2024-06-19 20:16:07.654294</td>\n",
       "      <td>Tesla's 'aging portfolio' is a bigger issue th...</td>\n",
       "      <td>TSLA</td>\n",
       "      <td></td>\n",
       "    </tr>\n",
       "    <tr>\n",
       "      <th>2</th>\n",
       "      <td>2024-06-20 13:17:07.654294</td>\n",
       "      <td>Warren Buffett’s Berkshire Hathaway dumps BYD ...</td>\n",
       "      <td>TSLA</td>\n",
       "      <td></td>\n",
       "    </tr>\n",
       "    <tr>\n",
       "      <th>3</th>\n",
       "      <td>2024-06-20 13:16:07.654294</td>\n",
       "      <td>Trending tickers: Apple, Palantir, Tesla and W...</td>\n",
       "      <td>TSLA</td>\n",
       "      <td></td>\n",
       "    </tr>\n",
       "    <tr>\n",
       "      <th>4</th>\n",
       "      <td>2024-06-20 11:16:07.654294</td>\n",
       "      <td>Musk plans stock option grants to Tesla's high...</td>\n",
       "      <td>TSLA</td>\n",
       "      <td></td>\n",
       "    </tr>\n",
       "  </tbody>\n",
       "</table>\n",
       "</div>"
      ],
      "text/plain": [
       "                        Date  \\\n",
       "0 2024-06-19 22:16:07.654294   \n",
       "1 2024-06-19 20:16:07.654294   \n",
       "2 2024-06-20 13:17:07.654294   \n",
       "3 2024-06-20 13:16:07.654294   \n",
       "4 2024-06-20 11:16:07.654294   \n",
       "\n",
       "                                            Headline Stock Name polarity_score  \n",
       "0  Bullish S&P 500 calls, weak China industrial o...       TSLA                 \n",
       "1  Tesla's 'aging portfolio' is a bigger issue th...       TSLA                 \n",
       "2  Warren Buffett’s Berkshire Hathaway dumps BYD ...       TSLA                 \n",
       "3  Trending tickers: Apple, Palantir, Tesla and W...       TSLA                 \n",
       "4  Musk plans stock option grants to Tesla's high...       TSLA                 "
      ]
     },
     "execution_count": 33,
     "metadata": {},
     "output_type": "execute_result"
    }
   ],
   "source": [
    "headlines['polarity_score']=''\n",
    "headlines.head()"
   ]
  },
  {
   "cell_type": "code",
   "execution_count": 34,
   "id": "f3ad3ba6",
   "metadata": {},
   "outputs": [],
   "source": [
    "sent_analyze = SentimentIntensityAnalyzer()\n",
    "\n",
    "# Analyze each tweet and store the compound score\n",
    "for ind, row in headlines.iterrows():\n",
    "    sentence_i = unicodedata.normalize(\"NFKD\", row[\"Headline\"])\n",
    "    sent_sent = sent_analyze.polarity_scores(sentence_i)\n",
    "    headlines.at[ind, \"polarity_score\"] = sent_sent[\"compound\"]"
   ]
  },
  {
   "cell_type": "code",
   "execution_count": 48,
   "id": "03b2c169",
   "metadata": {},
   "outputs": [
    {
     "data": {
      "text/html": [
       "<div>\n",
       "<style scoped>\n",
       "    .dataframe tbody tr th:only-of-type {\n",
       "        vertical-align: middle;\n",
       "    }\n",
       "\n",
       "    .dataframe tbody tr th {\n",
       "        vertical-align: top;\n",
       "    }\n",
       "\n",
       "    .dataframe thead th {\n",
       "        text-align: right;\n",
       "    }\n",
       "</style>\n",
       "<table border=\"1\" class=\"dataframe\">\n",
       "  <thead>\n",
       "    <tr style=\"text-align: right;\">\n",
       "      <th></th>\n",
       "      <th>Date</th>\n",
       "      <th>Headline</th>\n",
       "      <th>Stock Name</th>\n",
       "      <th>polarity_score</th>\n",
       "      <th>pct_change</th>\n",
       "    </tr>\n",
       "  </thead>\n",
       "  <tbody>\n",
       "    <tr>\n",
       "      <th>0</th>\n",
       "      <td>2024-06-19</td>\n",
       "      <td>Bullish S&amp;P 500 calls, weak China industrial o...</td>\n",
       "      <td>TSLA</td>\n",
       "      <td>-0.4404</td>\n",
       "      <td>0.222089</td>\n",
       "    </tr>\n",
       "    <tr>\n",
       "      <th>1</th>\n",
       "      <td>2024-06-19</td>\n",
       "      <td>Tesla's 'aging portfolio' is a bigger issue th...</td>\n",
       "      <td>TSLA</td>\n",
       "      <td>0.0</td>\n",
       "      <td>0.222089</td>\n",
       "    </tr>\n",
       "    <tr>\n",
       "      <th>2</th>\n",
       "      <td>2024-06-20</td>\n",
       "      <td>Warren Buffett’s Berkshire Hathaway dumps BYD ...</td>\n",
       "      <td>TSLA</td>\n",
       "      <td>-0.4215</td>\n",
       "      <td>0.222089</td>\n",
       "    </tr>\n",
       "    <tr>\n",
       "      <th>3</th>\n",
       "      <td>2024-06-20</td>\n",
       "      <td>Trending tickers: Apple, Palantir, Tesla and W...</td>\n",
       "      <td>TSLA</td>\n",
       "      <td>0.0</td>\n",
       "      <td>0.222089</td>\n",
       "    </tr>\n",
       "    <tr>\n",
       "      <th>4</th>\n",
       "      <td>2024-06-20</td>\n",
       "      <td>Musk plans stock option grants to Tesla's high...</td>\n",
       "      <td>TSLA</td>\n",
       "      <td>0.2263</td>\n",
       "      <td>0.222089</td>\n",
       "    </tr>\n",
       "  </tbody>\n",
       "</table>\n",
       "</div>"
      ],
      "text/plain": [
       "         Date                                           Headline Stock Name  \\\n",
       "0  2024-06-19  Bullish S&P 500 calls, weak China industrial o...       TSLA   \n",
       "1  2024-06-19  Tesla's 'aging portfolio' is a bigger issue th...       TSLA   \n",
       "2  2024-06-20  Warren Buffett’s Berkshire Hathaway dumps BYD ...       TSLA   \n",
       "3  2024-06-20  Trending tickers: Apple, Palantir, Tesla and W...       TSLA   \n",
       "4  2024-06-20  Musk plans stock option grants to Tesla's high...       TSLA   \n",
       "\n",
       "  polarity_score  pct_change  \n",
       "0        -0.4404    0.222089  \n",
       "1            0.0    0.222089  \n",
       "2        -0.4215    0.222089  \n",
       "3            0.0    0.222089  \n",
       "4         0.2263    0.222089  "
      ]
     },
     "execution_count": 48,
     "metadata": {},
     "output_type": "execute_result"
    }
   ],
   "source": [
    "headlines.head()"
   ]
  },
  {
   "cell_type": "markdown",
   "id": "f6e442cb",
   "metadata": {},
   "source": [
    "# Labeling headlines with pct_change calculated from stock prices"
   ]
  },
  {
   "cell_type": "code",
   "execution_count": 46,
   "id": "d32eb432-8af6-4d09-9632-fa14a587232a",
   "metadata": {},
   "outputs": [],
   "source": [
    "# Create a dictionary to map (Date, Stock Name) to Pct Change\n",
    "pct_change_dict = Stock.set_index(['Date', 'Stock Name'])['Pct Change'].to_dict()\n",
    "\n",
    "# Assign Pct Change values to headlines_df\n",
    "headlines['pct_change'] = headlines.apply(lambda row: pct_change_dict.get((row['Date'], row['Stock Name']), None), axis=1)\n",
    "\n",
    "# Calculate mean Pct Change for each Stock Name\n",
    "mean_pct_change = Stock.groupby('Stock Name')['Pct Change'].mean().to_dict()\n",
    "\n",
    "# Fill NaN values with the mean Pct Change of the respective company\n",
    "headlines['pct_change'] = headlines.apply(lambda row: mean_pct_change[row['Stock Name']] if pd.isna(row['pct_change']) else row['pct_change'], axis=1)"
   ]
  },
  {
   "cell_type": "code",
   "execution_count": 47,
   "id": "20e30079-60d3-440d-9da7-c836da6d6dac",
   "metadata": {},
   "outputs": [
    {
     "name": "stdout",
     "output_type": "stream",
     "text": [
      "Number of NaN values in 'pct_change' column: 0\n"
     ]
    }
   ],
   "source": [
    "na_count = headlines['pct_change'].isna().sum()\n",
    "print(f\"Number of NaN values in 'pct_change' column: {na_count}\")"
   ]
  },
  {
   "cell_type": "code",
   "execution_count": 49,
   "id": "fd60aa09",
   "metadata": {},
   "outputs": [
    {
     "data": {
      "text/html": [
       "<div>\n",
       "<style scoped>\n",
       "    .dataframe tbody tr th:only-of-type {\n",
       "        vertical-align: middle;\n",
       "    }\n",
       "\n",
       "    .dataframe tbody tr th {\n",
       "        vertical-align: top;\n",
       "    }\n",
       "\n",
       "    .dataframe thead th {\n",
       "        text-align: right;\n",
       "    }\n",
       "</style>\n",
       "<table border=\"1\" class=\"dataframe\">\n",
       "  <thead>\n",
       "    <tr style=\"text-align: right;\">\n",
       "      <th></th>\n",
       "      <th>Date</th>\n",
       "      <th>Headline</th>\n",
       "      <th>Stock Name</th>\n",
       "      <th>polarity_score</th>\n",
       "      <th>pct_change</th>\n",
       "    </tr>\n",
       "  </thead>\n",
       "  <tbody>\n",
       "    <tr>\n",
       "      <th>0</th>\n",
       "      <td>2024-06-19</td>\n",
       "      <td>Bullish S&amp;P 500 calls, weak China industrial o...</td>\n",
       "      <td>TSLA</td>\n",
       "      <td>-0.4404</td>\n",
       "      <td>0.222089</td>\n",
       "    </tr>\n",
       "    <tr>\n",
       "      <th>1</th>\n",
       "      <td>2024-06-19</td>\n",
       "      <td>Tesla's 'aging portfolio' is a bigger issue th...</td>\n",
       "      <td>TSLA</td>\n",
       "      <td>0.0</td>\n",
       "      <td>0.222089</td>\n",
       "    </tr>\n",
       "    <tr>\n",
       "      <th>2</th>\n",
       "      <td>2024-06-20</td>\n",
       "      <td>Warren Buffett’s Berkshire Hathaway dumps BYD ...</td>\n",
       "      <td>TSLA</td>\n",
       "      <td>-0.4215</td>\n",
       "      <td>0.222089</td>\n",
       "    </tr>\n",
       "    <tr>\n",
       "      <th>3</th>\n",
       "      <td>2024-06-20</td>\n",
       "      <td>Trending tickers: Apple, Palantir, Tesla and W...</td>\n",
       "      <td>TSLA</td>\n",
       "      <td>0.0</td>\n",
       "      <td>0.222089</td>\n",
       "    </tr>\n",
       "    <tr>\n",
       "      <th>4</th>\n",
       "      <td>2024-06-20</td>\n",
       "      <td>Musk plans stock option grants to Tesla's high...</td>\n",
       "      <td>TSLA</td>\n",
       "      <td>0.2263</td>\n",
       "      <td>0.222089</td>\n",
       "    </tr>\n",
       "  </tbody>\n",
       "</table>\n",
       "</div>"
      ],
      "text/plain": [
       "         Date                                           Headline Stock Name  \\\n",
       "0  2024-06-19  Bullish S&P 500 calls, weak China industrial o...       TSLA   \n",
       "1  2024-06-19  Tesla's 'aging portfolio' is a bigger issue th...       TSLA   \n",
       "2  2024-06-20  Warren Buffett’s Berkshire Hathaway dumps BYD ...       TSLA   \n",
       "3  2024-06-20  Trending tickers: Apple, Palantir, Tesla and W...       TSLA   \n",
       "4  2024-06-20  Musk plans stock option grants to Tesla's high...       TSLA   \n",
       "\n",
       "  polarity_score  pct_change  \n",
       "0        -0.4404    0.222089  \n",
       "1            0.0    0.222089  \n",
       "2        -0.4215    0.222089  \n",
       "3            0.0    0.222089  \n",
       "4         0.2263    0.222089  "
      ]
     },
     "execution_count": 49,
     "metadata": {},
     "output_type": "execute_result"
    }
   ],
   "source": [
    "headlines.head()"
   ]
  },
  {
   "cell_type": "code",
   "execution_count": 50,
   "id": "670077b4",
   "metadata": {},
   "outputs": [
    {
     "data": {
      "text/html": [
       "<div>\n",
       "<style scoped>\n",
       "    .dataframe tbody tr th:only-of-type {\n",
       "        vertical-align: middle;\n",
       "    }\n",
       "\n",
       "    .dataframe tbody tr th {\n",
       "        vertical-align: top;\n",
       "    }\n",
       "\n",
       "    .dataframe thead th {\n",
       "        text-align: right;\n",
       "    }\n",
       "</style>\n",
       "<table border=\"1\" class=\"dataframe\">\n",
       "  <thead>\n",
       "    <tr style=\"text-align: right;\">\n",
       "      <th></th>\n",
       "      <th>Date</th>\n",
       "      <th>Headline</th>\n",
       "      <th>Stock Name</th>\n",
       "      <th>polarity_score</th>\n",
       "      <th>pct_change</th>\n",
       "    </tr>\n",
       "  </thead>\n",
       "  <tbody>\n",
       "    <tr>\n",
       "      <th>0</th>\n",
       "      <td>2024-06-19</td>\n",
       "      <td>Bullish S&amp;P 500 calls, weak China industrial o...</td>\n",
       "      <td>TSLA</td>\n",
       "      <td>-0.4404</td>\n",
       "      <td>0.222089</td>\n",
       "    </tr>\n",
       "    <tr>\n",
       "      <th>1</th>\n",
       "      <td>2024-06-19</td>\n",
       "      <td>Tesla's 'aging portfolio' is a bigger issue th...</td>\n",
       "      <td>TSLA</td>\n",
       "      <td>0.0</td>\n",
       "      <td>0.222089</td>\n",
       "    </tr>\n",
       "    <tr>\n",
       "      <th>2</th>\n",
       "      <td>2024-06-20</td>\n",
       "      <td>Warren Buffett’s Berkshire Hathaway dumps BYD ...</td>\n",
       "      <td>TSLA</td>\n",
       "      <td>-0.4215</td>\n",
       "      <td>0.222089</td>\n",
       "    </tr>\n",
       "    <tr>\n",
       "      <th>3</th>\n",
       "      <td>2024-06-20</td>\n",
       "      <td>Trending tickers: Apple, Palantir, Tesla and W...</td>\n",
       "      <td>TSLA</td>\n",
       "      <td>0.0</td>\n",
       "      <td>0.222089</td>\n",
       "    </tr>\n",
       "    <tr>\n",
       "      <th>4</th>\n",
       "      <td>2024-06-20</td>\n",
       "      <td>Musk plans stock option grants to Tesla's high...</td>\n",
       "      <td>TSLA</td>\n",
       "      <td>0.2263</td>\n",
       "      <td>0.222089</td>\n",
       "    </tr>\n",
       "  </tbody>\n",
       "</table>\n",
       "</div>"
      ],
      "text/plain": [
       "         Date                                           Headline Stock Name  \\\n",
       "0  2024-06-19  Bullish S&P 500 calls, weak China industrial o...       TSLA   \n",
       "1  2024-06-19  Tesla's 'aging portfolio' is a bigger issue th...       TSLA   \n",
       "2  2024-06-20  Warren Buffett’s Berkshire Hathaway dumps BYD ...       TSLA   \n",
       "3  2024-06-20  Trending tickers: Apple, Palantir, Tesla and W...       TSLA   \n",
       "4  2024-06-20  Musk plans stock option grants to Tesla's high...       TSLA   \n",
       "\n",
       "  polarity_score  pct_change  \n",
       "0        -0.4404    0.222089  \n",
       "1            0.0    0.222089  \n",
       "2        -0.4215    0.222089  \n",
       "3            0.0    0.222089  \n",
       "4         0.2263    0.222089  "
      ]
     },
     "execution_count": 50,
     "metadata": {},
     "output_type": "execute_result"
    }
   ],
   "source": [
    "headlines[\"Date\"] = pd.to_datetime(headlines['Date'])\n",
    "headlines[\"Date\"] = headlines[\"Date\"].dt.date\n",
    "headlines.head()"
   ]
  },
  {
   "cell_type": "code",
   "execution_count": 56,
   "id": "d18fc14c-f89c-436c-9d64-3300100aeae7",
   "metadata": {},
   "outputs": [
    {
     "data": {
      "text/html": [
       "<div>\n",
       "<style scoped>\n",
       "    .dataframe tbody tr th:only-of-type {\n",
       "        vertical-align: middle;\n",
       "    }\n",
       "\n",
       "    .dataframe tbody tr th {\n",
       "        vertical-align: top;\n",
       "    }\n",
       "\n",
       "    .dataframe thead th {\n",
       "        text-align: right;\n",
       "    }\n",
       "</style>\n",
       "<table border=\"1\" class=\"dataframe\">\n",
       "  <thead>\n",
       "    <tr style=\"text-align: right;\">\n",
       "      <th></th>\n",
       "      <th>Date</th>\n",
       "      <th>Headline</th>\n",
       "      <th>Stock Name</th>\n",
       "      <th>polarity_score</th>\n",
       "      <th>pct_change</th>\n",
       "      <th>label</th>\n",
       "    </tr>\n",
       "  </thead>\n",
       "  <tbody>\n",
       "    <tr>\n",
       "      <th>0</th>\n",
       "      <td>2024-06-19</td>\n",
       "      <td>Bullish S&amp;P 500 calls, weak China industrial o...</td>\n",
       "      <td>TSLA</td>\n",
       "      <td>-0.4404</td>\n",
       "      <td>0.222089</td>\n",
       "      <td>2</td>\n",
       "    </tr>\n",
       "    <tr>\n",
       "      <th>1</th>\n",
       "      <td>2024-06-19</td>\n",
       "      <td>Tesla's 'aging portfolio' is a bigger issue th...</td>\n",
       "      <td>TSLA</td>\n",
       "      <td>0.0</td>\n",
       "      <td>0.222089</td>\n",
       "      <td>2</td>\n",
       "    </tr>\n",
       "    <tr>\n",
       "      <th>2</th>\n",
       "      <td>2024-06-20</td>\n",
       "      <td>Warren Buffett’s Berkshire Hathaway dumps BYD ...</td>\n",
       "      <td>TSLA</td>\n",
       "      <td>-0.4215</td>\n",
       "      <td>0.222089</td>\n",
       "      <td>2</td>\n",
       "    </tr>\n",
       "    <tr>\n",
       "      <th>3</th>\n",
       "      <td>2024-06-20</td>\n",
       "      <td>Trending tickers: Apple, Palantir, Tesla and W...</td>\n",
       "      <td>TSLA</td>\n",
       "      <td>0.0</td>\n",
       "      <td>0.222089</td>\n",
       "      <td>2</td>\n",
       "    </tr>\n",
       "    <tr>\n",
       "      <th>4</th>\n",
       "      <td>2024-06-20</td>\n",
       "      <td>Musk plans stock option grants to Tesla's high...</td>\n",
       "      <td>TSLA</td>\n",
       "      <td>0.2263</td>\n",
       "      <td>0.222089</td>\n",
       "      <td>2</td>\n",
       "    </tr>\n",
       "  </tbody>\n",
       "</table>\n",
       "</div>"
      ],
      "text/plain": [
       "         Date                                           Headline Stock Name  \\\n",
       "0  2024-06-19  Bullish S&P 500 calls, weak China industrial o...       TSLA   \n",
       "1  2024-06-19  Tesla's 'aging portfolio' is a bigger issue th...       TSLA   \n",
       "2  2024-06-20  Warren Buffett’s Berkshire Hathaway dumps BYD ...       TSLA   \n",
       "3  2024-06-20  Trending tickers: Apple, Palantir, Tesla and W...       TSLA   \n",
       "4  2024-06-20  Musk plans stock option grants to Tesla's high...       TSLA   \n",
       "\n",
       "  polarity_score  pct_change  label  \n",
       "0        -0.4404    0.222089      2  \n",
       "1            0.0    0.222089      2  \n",
       "2        -0.4215    0.222089      2  \n",
       "3            0.0    0.222089      2  \n",
       "4         0.2263    0.222089      2  "
      ]
     },
     "execution_count": 56,
     "metadata": {},
     "output_type": "execute_result"
    }
   ],
   "source": [
    "headlines['label'] = headlines['pct_change'].apply(lambda x: 2 if x > 0 else (1 if x == 0 else 0))\n",
    "headlines.head()"
   ]
  },
  {
   "cell_type": "code",
   "execution_count": 69,
   "id": "68063703",
   "metadata": {},
   "outputs": [
    {
     "data": {
      "text/plain": [
       "sentiment_label\n",
       "2    3414\n",
       "1    2848\n",
       "0     990\n",
       "Name: count, dtype: int64"
      ]
     },
     "execution_count": 69,
     "metadata": {},
     "output_type": "execute_result"
    }
   ],
   "source": [
    "headlines[\"sentiment_label\"].value_counts()"
   ]
  },
  {
   "cell_type": "code",
   "execution_count": 31,
   "id": "aad369b5",
   "metadata": {},
   "outputs": [
    {
     "data": {
      "text/plain": [
       "(6970, 5)"
      ]
     },
     "execution_count": 31,
     "metadata": {},
     "output_type": "execute_result"
    }
   ],
   "source": [
    "headlines.shape"
   ]
  },
  {
   "cell_type": "markdown",
   "id": "f4c15c81",
   "metadata": {},
   "source": [
    "# Preprocessing and Training"
   ]
  },
  {
   "cell_type": "code",
   "execution_count": null,
   "id": "2b487152",
   "metadata": {},
   "outputs": [],
   "source": [
    "# Preprocessing function\n",
    "def preprocessing(df):\n",
    "    # Convert to lower case\n",
    "    df = df.str.lower()\n",
    "    # Remove punctuation\n",
    "    df = df.str.replace('[^\\w\\s]', '', regex=True)\n",
    "    # Remove numbers\n",
    "    df = df.str.replace('\\d', '', regex=True)\n",
    "    # Remove stopwords\n",
    "    sw = stopwords.words('english')\n",
    "    df = df.apply(lambda x: \" \".join(x for x in str(x).split() if x not in sw))\n",
    "    # Remove infrequent words\n",
    "    temp_df = pd.Series(' '.join(df).split()).value_counts()\n",
    "    drops = temp_df[temp_df <= 1]\n",
    "    df = df.apply(lambda x: \" \".join(x for x in x.split() if x not in drops))\n",
    "    return df\n",
    "\n",
    "# Tokenization function\n",
    "def tokenization(df):\n",
    "    df = df.apply(lambda x: TextBlob(x).words)\n",
    "    return df\n",
    "\n",
    "# Lemmatization function\n",
    "def lemmatized(df):\n",
    "    df = df.apply(lambda x: \" \".join([Word(word).lemmatize() for word in x.split()]))\n",
    "    return df"
   ]
  },
  {
   "cell_type": "code",
   "execution_count": null,
   "id": "7c449eed",
   "metadata": {},
   "outputs": [],
   "source": [
    "# Term frequency function\n",
    "def term_fre(df):\n",
    "    tf = df.apply(lambda x: pd.value_counts(x.split(\" \"))).sum(axis=0).reset_index()\n",
    "    tf.columns = ['words', 'tf']\n",
    "    tf_sorted = tf.sort_values(by='tf', ascending=False)\n",
    "    return tf_sorted\n",
    "\n",
    "# TF-IDF function\n",
    "def tfidf(X, fit_vectorizer=None):\n",
    "    if fit_vectorizer is None:\n",
    "        fit_vectorizer = TfidfVectorizer()\n",
    "        X_tf_idf_word = fit_vectorizer.fit_transform(X)\n",
    "    else:\n",
    "        X_tf_idf_word = fit_vectorizer.transform(X)\n",
    "    return X_tf_idf_word, fit_vectorizer\n",
    "\n",
    "# Function to preprocess and vectorize\n",
    "def finalX(X, vectorizer=None):\n",
    "    # Apply preprocessing\n",
    "    X = preprocessing(X)\n",
    "\n",
    "    # Apply tokenization (if needed)\n",
    "    # X = tokenization(X)\n",
    "\n",
    "    # Apply lemmatization\n",
    "    X = lemmatized(X)\n",
    "\n",
    "    # Convert to TF-IDF\n",
    "    X_tf_idf_word, vectorizer = tfidf(X, vectorizer)\n",
    "    return X_tf_idf_word, vectorizer"
   ]
  },
  {
   "cell_type": "code",
   "execution_count": null,
   "id": "48d9b042",
   "metadata": {},
   "outputs": [],
   "source": [
    "X = headlines[['Headline','polarity_score']]\n",
    "y = headlines['label']\n",
    "# Split into train and test sets\n",
    "X_train, X_test, y_train, y_test = train_test_split(X, y, test_size=0.2, random_state=42)"
   ]
  },
  {
   "cell_type": "code",
   "execution_count": 70,
   "id": "1a01f0b2",
   "metadata": {},
   "outputs": [
    {
     "data": {
      "text/html": [
       "<style>#sk-container-id-2 {color: black;background-color: white;}#sk-container-id-2 pre{padding: 0;}#sk-container-id-2 div.sk-toggleable {background-color: white;}#sk-container-id-2 label.sk-toggleable__label {cursor: pointer;display: block;width: 100%;margin-bottom: 0;padding: 0.3em;box-sizing: border-box;text-align: center;}#sk-container-id-2 label.sk-toggleable__label-arrow:before {content: \"▸\";float: left;margin-right: 0.25em;color: #696969;}#sk-container-id-2 label.sk-toggleable__label-arrow:hover:before {color: black;}#sk-container-id-2 div.sk-estimator:hover label.sk-toggleable__label-arrow:before {color: black;}#sk-container-id-2 div.sk-toggleable__content {max-height: 0;max-width: 0;overflow: hidden;text-align: left;background-color: #f0f8ff;}#sk-container-id-2 div.sk-toggleable__content pre {margin: 0.2em;color: black;border-radius: 0.25em;background-color: #f0f8ff;}#sk-container-id-2 input.sk-toggleable__control:checked~div.sk-toggleable__content {max-height: 200px;max-width: 100%;overflow: auto;}#sk-container-id-2 input.sk-toggleable__control:checked~label.sk-toggleable__label-arrow:before {content: \"▾\";}#sk-container-id-2 div.sk-estimator input.sk-toggleable__control:checked~label.sk-toggleable__label {background-color: #d4ebff;}#sk-container-id-2 div.sk-label input.sk-toggleable__control:checked~label.sk-toggleable__label {background-color: #d4ebff;}#sk-container-id-2 input.sk-hidden--visually {border: 0;clip: rect(1px 1px 1px 1px);clip: rect(1px, 1px, 1px, 1px);height: 1px;margin: -1px;overflow: hidden;padding: 0;position: absolute;width: 1px;}#sk-container-id-2 div.sk-estimator {font-family: monospace;background-color: #f0f8ff;border: 1px dotted black;border-radius: 0.25em;box-sizing: border-box;margin-bottom: 0.5em;}#sk-container-id-2 div.sk-estimator:hover {background-color: #d4ebff;}#sk-container-id-2 div.sk-parallel-item::after {content: \"\";width: 100%;border-bottom: 1px solid gray;flex-grow: 1;}#sk-container-id-2 div.sk-label:hover label.sk-toggleable__label {background-color: #d4ebff;}#sk-container-id-2 div.sk-serial::before {content: \"\";position: absolute;border-left: 1px solid gray;box-sizing: border-box;top: 0;bottom: 0;left: 50%;z-index: 0;}#sk-container-id-2 div.sk-serial {display: flex;flex-direction: column;align-items: center;background-color: white;padding-right: 0.2em;padding-left: 0.2em;position: relative;}#sk-container-id-2 div.sk-item {position: relative;z-index: 1;}#sk-container-id-2 div.sk-parallel {display: flex;align-items: stretch;justify-content: center;background-color: white;position: relative;}#sk-container-id-2 div.sk-item::before, #sk-container-id-2 div.sk-parallel-item::before {content: \"\";position: absolute;border-left: 1px solid gray;box-sizing: border-box;top: 0;bottom: 0;left: 50%;z-index: -1;}#sk-container-id-2 div.sk-parallel-item {display: flex;flex-direction: column;z-index: 1;position: relative;background-color: white;}#sk-container-id-2 div.sk-parallel-item:first-child::after {align-self: flex-end;width: 50%;}#sk-container-id-2 div.sk-parallel-item:last-child::after {align-self: flex-start;width: 50%;}#sk-container-id-2 div.sk-parallel-item:only-child::after {width: 0;}#sk-container-id-2 div.sk-dashed-wrapped {border: 1px dashed gray;margin: 0 0.4em 0.5em 0.4em;box-sizing: border-box;padding-bottom: 0.4em;background-color: white;}#sk-container-id-2 div.sk-label label {font-family: monospace;font-weight: bold;display: inline-block;line-height: 1.2em;}#sk-container-id-2 div.sk-label-container {text-align: center;}#sk-container-id-2 div.sk-container {/* jupyter's `normalize.less` sets `[hidden] { display: none; }` but bootstrap.min.css set `[hidden] { display: none !important; }` so we also need the `!important` here to be able to override the default hidden behavior on the sphinx rendered scikit-learn.org. See: https://github.com/scikit-learn/scikit-learn/issues/21755 */display: inline-block !important;position: relative;}#sk-container-id-2 div.sk-text-repr-fallback {display: none;}</style><div id=\"sk-container-id-2\" class=\"sk-top-container\"><div class=\"sk-text-repr-fallback\"><pre>RandomForestClassifier()</pre><b>In a Jupyter environment, please rerun this cell to show the HTML representation or trust the notebook. <br />On GitHub, the HTML representation is unable to render, please try loading this page with nbviewer.org.</b></div><div class=\"sk-container\" hidden><div class=\"sk-item\"><div class=\"sk-estimator sk-toggleable\"><input class=\"sk-toggleable__control sk-hidden--visually\" id=\"sk-estimator-id-2\" type=\"checkbox\" checked><label for=\"sk-estimator-id-2\" class=\"sk-toggleable__label sk-toggleable__label-arrow\">RandomForestClassifier</label><div class=\"sk-toggleable__content\"><pre>RandomForestClassifier()</pre></div></div></div></div></div>"
      ],
      "text/plain": [
       "RandomForestClassifier()"
      ]
     },
     "execution_count": 70,
     "metadata": {},
     "output_type": "execute_result"
    }
   ],
   "source": [
    "# Convert to TF-IDF\n",
    "X_tf_idf_word_train, vectorizer = finalX(X_train['Headline'])\n",
    "\n",
    "X_tf_idf_word_test, _ = finalX(X_test['Headline'], vectorizer)\n",
    "\n",
    "# Train RandomForestClassifier\n",
    "rf_model = RandomForestClassifier()\n",
    "rf_model.fit(X_tf_idf_word_train, y_train)\n"
   ]
  },
  {
   "cell_type": "markdown",
   "id": "b6bd518f",
   "metadata": {},
   "source": [
    "ROC Curve for Random Forest Model"
   ]
  },
  {
   "cell_type": "code",
   "execution_count": 83,
   "id": "6a7dc234-38a3-491b-99fb-5c1cf8977fa1",
   "metadata": {},
   "outputs": [
    {
     "data": {
      "image/png": "[encoded data removed]",
      "text/plain": [
       "<Figure size 800x600 with 1 Axes>"
      ]
     },
     "metadata": {},
     "output_type": "display_data"
    }
   ],
   "source": [
    "from sklearn.metrics import roc_curve, auc\n",
    "y_train = np.where(y_train >= 2, 1, 0)\n",
    "y_test = np.where(y_test >= 2, 1, 0)\n",
    "\n",
    "\n",
    "# Predict probabilities using the trained model\n",
    "y_pred_proba = rf_model.predict_proba(X_tf_idf_word_test)[:, 1]  # Select probability for positive class\n",
    "\n",
    "# Calculate ROC curve metrics\n",
    "fpr, tpr, threshold = roc_curve(y_test, y_pred_proba)\n",
    "roc_auc = auc(fpr, tpr)\n",
    "\n",
    "# Plot the ROC curve\n",
    "import matplotlib.pyplot as plt\n",
    "\n",
    "plt.figure(figsize=(8, 6))\n",
    "plt.plot(fpr, tpr, label='ROC Curve (area = %0.2f)' % roc_auc)\n",
    "plt.plot([0, 1], [0, 1], 'k--', label='No Skill')\n",
    "plt.xlim([0.0, 1.0])\n",
    "plt.ylim([0.0, 1.05])\n",
    "plt.xlabel('False Positive Rate (FPR)')\n",
    "plt.ylabel('True Positive Rate (TPR)')\n",
    "plt.title('ROC Curve for Random Forest Classifier')\n",
    "plt.legend()\n",
    "plt.show()\n"
   ]
  },
  {
   "cell_type": "code",
   "execution_count": 72,
   "id": "18f880ec-6183-477d-9792-8af6a0246ef5",
   "metadata": {},
   "outputs": [
    {
     "name": "stdout",
     "output_type": "stream",
     "text": [
      "Evaluating GaussianNB...\n",
      "Cross-validation score: 0.888809\n",
      "Test set accuracy: 0.852941\n",
      "Precision: 0.913599\n",
      "Recall: 0.852941\n",
      "F1 Score: 0.864505\n",
      "Confusion Matrix:\n",
      " [[292   0]\n",
      " [205 897]]\n",
      "\n",
      "\n",
      "Evaluating MultinomialNB...\n",
      "Cross-validation score: 0.904948\n",
      "Test set accuracy: 0.911047\n",
      "Precision: 0.908823\n",
      "Recall: 0.911047\n",
      "F1 Score: 0.906674\n",
      "Confusion Matrix:\n",
      " [[ 197   95]\n",
      " [  29 1073]]\n",
      "\n",
      "\n",
      "Evaluating BernoulliNB...\n",
      "Cross-validation score: 0.879840\n",
      "Test set accuracy: 0.866571\n",
      "Precision: 0.893200\n",
      "Recall: 0.866571\n",
      "F1 Score: 0.873735\n",
      "Confusion Matrix:\n",
      " [[255  37]\n",
      " [149 953]]\n",
      "\n",
      "\n",
      "Evaluating LogisticRegression...\n",
      "Cross-validation score: 0.893653\n",
      "Test set accuracy: 0.905308\n",
      "Precision: 0.902101\n",
      "Recall: 0.905308\n",
      "F1 Score: 0.901460\n",
      "Confusion Matrix:\n",
      " [[ 198   94]\n",
      " [  38 1064]]\n",
      "\n",
      "\n",
      "Evaluating SVC...\n",
      "Cross-validation score: 0.989958\n",
      "Test set accuracy: 0.982783\n",
      "Precision: 0.982704\n",
      "Recall: 0.982783\n",
      "F1 Score: 0.982695\n",
      "Confusion Matrix:\n",
      " [[ 276   16]\n",
      " [   8 1094]]\n",
      "\n",
      "\n",
      "Evaluating DecisionTree...\n",
      "Cross-validation score: 0.994260\n",
      "Test set accuracy: 0.960545\n",
      "Precision: 0.961405\n",
      "Recall: 0.960545\n",
      "F1 Score: 0.960858\n",
      "Confusion Matrix:\n",
      " [[ 271   21]\n",
      " [  34 1068]]\n",
      "\n",
      "\n",
      "Evaluating KNeighbors...\n",
      "Cross-validation score: 0.928621\n",
      "Test set accuracy: 0.969154\n",
      "Precision: 0.969741\n",
      "Recall: 0.969154\n",
      "F1 Score: 0.969361\n",
      "Confusion Matrix:\n",
      " [[ 276   16]\n",
      " [  27 1075]]\n",
      "\n",
      "\n",
      "Evaluating RandomForest...\n",
      "Cross-validation score: 0.995875\n",
      "Test set accuracy: 0.976327\n",
      "Precision: 0.976189\n",
      "Recall: 0.976327\n",
      "F1 Score: 0.976221\n",
      "Confusion Matrix:\n",
      " [[ 272   20]\n",
      " [  13 1089]]\n",
      "\n",
      "\n",
      "Evaluating AdaBoost...\n",
      "Cross-validation score: 0.887913\n",
      "Test set accuracy: 0.881636\n",
      "Precision: 0.878446\n",
      "Recall: 0.881636\n",
      "F1 Score: 0.879653\n",
      "Confusion Matrix:\n",
      " [[ 197   95]\n",
      " [  70 1032]]\n",
      "\n",
      "\n",
      "Evaluating Bagging...\n",
      "Cross-validation score: 0.993902\n",
      "Test set accuracy: 0.972023\n",
      "Precision: 0.972141\n",
      "Recall: 0.972023\n",
      "F1 Score: 0.972075\n",
      "Confusion Matrix:\n",
      " [[ 274   18]\n",
      " [  21 1081]]\n",
      "\n",
      "\n",
      "Evaluating ExtraTrees...\n",
      "Cross-validation score: 0.995337\n",
      "Test set accuracy: 0.975610\n",
      "Precision: 0.975533\n",
      "Recall: 0.975610\n",
      "F1 Score: 0.975321\n",
      "Confusion Matrix:\n",
      " [[ 266   26]\n",
      " [   8 1094]]\n",
      "\n",
      "\n",
      "Evaluating GradientBoosting...\n",
      "Cross-validation score: 0.854375\n",
      "Test set accuracy: 0.865136\n",
      "Precision: 0.862540\n",
      "Recall: 0.865136\n",
      "F1 Score: 0.847902\n",
      "Confusion Matrix:\n",
      " [[ 128  164]\n",
      " [  24 1078]]\n",
      "\n",
      "\n"
     ]
    }
   ],
   "source": [
    "from sklearn.datasets import load_iris\n",
    "from sklearn.model_selection import train_test_split, cross_val_score\n",
    "from sklearn.preprocessing import StandardScaler\n",
    "from sklearn.metrics import accuracy_score, confusion_matrix, precision_score, f1_score, recall_score\n",
    "from sklearn.naive_bayes import GaussianNB, MultinomialNB, BernoulliNB\n",
    "from sklearn.linear_model import LogisticRegression\n",
    "from sklearn.svm import SVC\n",
    "from sklearn.tree import DecisionTreeClassifier\n",
    "from sklearn.neighbors import KNeighborsClassifier\n",
    "from sklearn.ensemble import RandomForestClassifier, AdaBoostClassifier, BaggingClassifier, ExtraTreesClassifier, GradientBoostingClassifier\n",
    "import numpy as np\n",
    "\n",
    "\n",
    "# List of classifiers to evaluate\n",
    "classifiers = [\n",
    "    ('GaussianNB', GaussianNB()),\n",
    "    ('MultinomialNB', MultinomialNB()),\n",
    "    ('BernoulliNB', BernoulliNB()),\n",
    "    ('LogisticRegression', LogisticRegression(max_iter=1000)),\n",
    "    ('SVC', SVC(probability=True)),\n",
    "    ('DecisionTree', DecisionTreeClassifier()),\n",
    "    ('KNeighbors', KNeighborsClassifier(n_neighbors=5)),\n",
    "    ('RandomForest', RandomForestClassifier(n_estimators=100)),\n",
    "    ('AdaBoost', AdaBoostClassifier(n_estimators=100)),\n",
    "    ('Bagging', BaggingClassifier(base_estimator=DecisionTreeClassifier(), n_estimators=10)),\n",
    "    ('ExtraTrees', ExtraTreesClassifier(n_estimators=100)),\n",
    "    ('GradientBoosting', GradientBoostingClassifier(n_estimators=100)),\n",
    "]\n",
    "\n",
    "# Evaluate each classifier\n",
    "for name, clf in classifiers:\n",
    "    print(f\"Evaluating {name}...\")\n",
    "    # Fit the model on the scaled training data\n",
    "    X_tf_idf_word_train, vectorizer = givefinalX(X_train['Headline'])\n",
    "\n",
    "    X_tf_idf_word_test, _ = givefinalX(X_test['Headline'], vectorizer)\n",
    "    clf.fit(X_tf_idf_word_train.toarray(), y_train)\n",
    "    \n",
    "    # Predict the test set results\n",
    "    y_pred = clf.predict(X_tf_idf_word_test.toarray())\n",
    "    \n",
    "    # Calculate and print evaluation metrics\n",
    "    cv_score = cross_val_score(clf, X_tf_idf_word_train.toarray(), y_train, cv=5).mean()\n",
    "    test_accuracy = accuracy_score(y_test, y_pred)\n",
    "    test_precision = precision_score(y_test, y_pred, average='weighted')\n",
    "    test_recall = recall_score(y_test, y_pred, average='weighted')\n",
    "    test_f1 = f1_score(y_test, y_pred, average='weighted')\n",
    "    \n",
    "    print(f\"Cross-validation score: {cv_score:.6f}\")\n",
    "    print(f\"Test set accuracy: {test_accuracy:.6f}\")\n",
    "    print(f\"Precision: {test_precision:.6f}\")\n",
    "    print(f\"Recall: {test_recall:.6f}\")\n",
    "    print(f\"F1 Score: {test_f1:.6f}\")\n",
    "    print(\"Confusion Matrix:\\n\", confusion_matrix(y_test, y_pred))\n",
    "    print(\"\\n\")\n"
   ]
  },
  {
   "cell_type": "code",
   "execution_count": 60,
   "id": "43b386f9",
   "metadata": {},
   "outputs": [
    {
     "name": "stdout",
     "output_type": "stream",
     "text": [
      "Cross-validation score: 0.9958747609174342\n"
     ]
    }
   ],
   "source": [
    " # Cross-validation score\n",
    "cv_score = cross_val_score(rf_model, X_tf_idf_word_train, y_train, cv=5, n_jobs=-1).mean()\n",
    "print(f\"Cross-validation score: {cv_score}\")\n"
   ]
  },
  {
   "cell_type": "code",
   "execution_count": 61,
   "id": "82885e52",
   "metadata": {},
   "outputs": [
    {
     "name": "stdout",
     "output_type": "stream",
     "text": [
      "Test set predictions: [2 2 0 ... 2 0 2]\n"
     ]
    }
   ],
   "source": [
    " # Predictions on test set\n",
    "pred = rf_model.predict(X_tf_idf_word_test)\n",
    "print(f\"Test set predictions: {pred}\")\n"
   ]
  },
  {
   "cell_type": "code",
   "execution_count": 62,
   "id": "ff68e5ab",
   "metadata": {},
   "outputs": [
    {
     "name": "stdout",
     "output_type": "stream",
     "text": [
      "Test set score: 0.9741750358680057\n"
     ]
    }
   ],
   "source": [
    "# Evaluate on the test set\n",
    "test_score = rf_model.score(X_tf_idf_word_test, y_test)\n",
    "print(f\"Test set score: {test_score}\")"
   ]
  },
  {
   "cell_type": "markdown",
   "id": "0e1bc511",
   "metadata": {},
   "source": [
    "# Trading Strategy"
   ]
  },
  {
   "cell_type": "code",
   "execution_count": 133,
   "id": "61523e9f",
   "metadata": {},
   "outputs": [
    {
     "data": {
      "text/html": [
       "<div>\n",
       "<style scoped>\n",
       "    .dataframe tbody tr th:only-of-type {\n",
       "        vertical-align: middle;\n",
       "    }\n",
       "\n",
       "    .dataframe tbody tr th {\n",
       "        vertical-align: top;\n",
       "    }\n",
       "\n",
       "    .dataframe thead th {\n",
       "        text-align: right;\n",
       "    }\n",
       "</style>\n",
       "<table border=\"1\" class=\"dataframe\">\n",
       "  <thead>\n",
       "    <tr style=\"text-align: right;\">\n",
       "      <th></th>\n",
       "      <th>Date</th>\n",
       "      <th>polarity_score</th>\n",
       "      <th>Stock Name</th>\n",
       "    </tr>\n",
       "  </thead>\n",
       "  <tbody>\n",
       "    <tr>\n",
       "      <th>0</th>\n",
       "      <td>2024-06-17</td>\n",
       "      <td>-0.4404</td>\n",
       "      <td>TSLA</td>\n",
       "    </tr>\n",
       "    <tr>\n",
       "      <th>1</th>\n",
       "      <td>2024-06-17</td>\n",
       "      <td>0.0</td>\n",
       "      <td>TSLA</td>\n",
       "    </tr>\n",
       "    <tr>\n",
       "      <th>2</th>\n",
       "      <td>2024-06-18</td>\n",
       "      <td>-0.4215</td>\n",
       "      <td>TSLA</td>\n",
       "    </tr>\n",
       "    <tr>\n",
       "      <th>3</th>\n",
       "      <td>2024-06-18</td>\n",
       "      <td>0.0</td>\n",
       "      <td>TSLA</td>\n",
       "    </tr>\n",
       "    <tr>\n",
       "      <th>4</th>\n",
       "      <td>2024-06-18</td>\n",
       "      <td>0.2263</td>\n",
       "      <td>TSLA</td>\n",
       "    </tr>\n",
       "  </tbody>\n",
       "</table>\n",
       "</div>"
      ],
      "text/plain": [
       "         Date polarity_score Stock Name\n",
       "0  2024-06-17        -0.4404       TSLA\n",
       "1  2024-06-17            0.0       TSLA\n",
       "2  2024-06-18        -0.4215       TSLA\n",
       "3  2024-06-18            0.0       TSLA\n",
       "4  2024-06-18         0.2263       TSLA"
      ]
     },
     "execution_count": 133,
     "metadata": {},
     "output_type": "execute_result"
    }
   ],
   "source": [
    "df = headlines[[\"Date\",\"polarity_score\",\"Stock Name\"]]\n",
    "df.head()"
   ]
  },
  {
   "cell_type": "code",
   "execution_count": 121,
   "id": "78392fca",
   "metadata": {},
   "outputs": [
    {
     "data": {
      "text/plain": [
       "(7252, 3)"
      ]
     },
     "execution_count": 121,
     "metadata": {},
     "output_type": "execute_result"
    }
   ],
   "source": [
    "df.shape"
   ]
  },
  {
   "cell_type": "code",
   "execution_count": 72,
   "id": "0f9a795d",
   "metadata": {},
   "outputs": [
    {
     "data": {
      "text/plain": [
       "Stock Name\n",
       "AAPL    1512\n",
       "ALB     1220\n",
       "AMZN    1140\n",
       "AVGO    1140\n",
       "TSLA    1120\n",
       "SMCI    1120\n",
       "Name: count, dtype: int64"
      ]
     },
     "execution_count": 72,
     "metadata": {},
     "output_type": "execute_result"
    }
   ],
   "source": [
    "df[\"Stock Name\"].value_counts()"
   ]
  },
  {
   "cell_type": "code",
   "execution_count": 134,
   "id": "cabc616a",
   "metadata": {},
   "outputs": [],
   "source": [
    "# Group by \"Date\" and \"Stock Name\" and calculate the mean of \"sentence_score\"\n",
    "df_grouped = df.groupby([\"Date\", \"Stock Name\"]).mean().reset_index()"
   ]
  },
  {
   "cell_type": "code",
   "execution_count": 123,
   "id": "4c95c6fb",
   "metadata": {},
   "outputs": [
    {
     "name": "stdout",
     "output_type": "stream",
     "text": [
      "(386, 3)\n"
     ]
    }
   ],
   "source": [
    "print(df_grouped.shape)"
   ]
  },
  {
   "cell_type": "code",
   "execution_count": 124,
   "id": "bda399c1",
   "metadata": {},
   "outputs": [
    {
     "data": {
      "text/html": [
       "<div>\n",
       "<style scoped>\n",
       "    .dataframe tbody tr th:only-of-type {\n",
       "        vertical-align: middle;\n",
       "    }\n",
       "\n",
       "    .dataframe tbody tr th {\n",
       "        vertical-align: top;\n",
       "    }\n",
       "\n",
       "    .dataframe thead th {\n",
       "        text-align: right;\n",
       "    }\n",
       "</style>\n",
       "<table border=\"1\" class=\"dataframe\">\n",
       "  <thead>\n",
       "    <tr style=\"text-align: right;\">\n",
       "      <th></th>\n",
       "      <th>Date</th>\n",
       "      <th>Stock Name</th>\n",
       "      <th>polarity_score</th>\n",
       "    </tr>\n",
       "  </thead>\n",
       "  <tbody>\n",
       "    <tr>\n",
       "      <th>0</th>\n",
       "      <td>2020-01-02</td>\n",
       "      <td>AAPL</td>\n",
       "      <td>0.6369</td>\n",
       "    </tr>\n",
       "    <tr>\n",
       "      <th>1</th>\n",
       "      <td>2020-01-07</td>\n",
       "      <td>AAPL</td>\n",
       "      <td>0.4019</td>\n",
       "    </tr>\n",
       "    <tr>\n",
       "      <th>2</th>\n",
       "      <td>2020-01-13</td>\n",
       "      <td>AAPL</td>\n",
       "      <td>0.0</td>\n",
       "    </tr>\n",
       "    <tr>\n",
       "      <th>3</th>\n",
       "      <td>2020-01-14</td>\n",
       "      <td>AAPL</td>\n",
       "      <td>0.0</td>\n",
       "    </tr>\n",
       "    <tr>\n",
       "      <th>4</th>\n",
       "      <td>2020-01-16</td>\n",
       "      <td>AAPL</td>\n",
       "      <td>-0.7269</td>\n",
       "    </tr>\n",
       "  </tbody>\n",
       "</table>\n",
       "</div>"
      ],
      "text/plain": [
       "         Date Stock Name polarity_score\n",
       "0  2020-01-02       AAPL         0.6369\n",
       "1  2020-01-07       AAPL         0.4019\n",
       "2  2020-01-13       AAPL            0.0\n",
       "3  2020-01-14       AAPL            0.0\n",
       "4  2020-01-16       AAPL        -0.7269"
      ]
     },
     "execution_count": 124,
     "metadata": {},
     "output_type": "execute_result"
    }
   ],
   "source": [
    "df_grouped.head()"
   ]
  },
  {
   "cell_type": "code",
   "execution_count": 76,
   "id": "1672ed70",
   "metadata": {},
   "outputs": [
    {
     "data": {
      "text/plain": [
       "Stock Name\n",
       "AAPL    289\n",
       "SMCI     29\n",
       "AVGO     28\n",
       "ALB      20\n",
       "AMZN     14\n",
       "TSLA      6\n",
       "Name: count, dtype: int64"
      ]
     },
     "execution_count": 76,
     "metadata": {},
     "output_type": "execute_result"
    }
   ],
   "source": [
    "df_grouped['Stock Name'].value_counts()"
   ]
  },
  {
   "cell_type": "code",
   "execution_count": 77,
   "id": "534b53a7",
   "metadata": {},
   "outputs": [
    {
     "data": {
      "text/plain": [
       "Index(['Date', 'Stock Name', 'polarity_score'], dtype='object')"
      ]
     },
     "execution_count": 77,
     "metadata": {},
     "output_type": "execute_result"
    }
   ],
   "source": [
    "df_grouped.columns"
   ]
  },
  {
   "cell_type": "code",
   "execution_count": 125,
   "id": "94e29548",
   "metadata": {},
   "outputs": [
    {
     "name": "stdout",
     "output_type": "stream",
     "text": [
      "(8988, 8)\n"
     ]
    },
    {
     "data": {
      "text/html": [
       "<div>\n",
       "<style scoped>\n",
       "    .dataframe tbody tr th:only-of-type {\n",
       "        vertical-align: middle;\n",
       "    }\n",
       "\n",
       "    .dataframe tbody tr th {\n",
       "        vertical-align: top;\n",
       "    }\n",
       "\n",
       "    .dataframe thead th {\n",
       "        text-align: right;\n",
       "    }\n",
       "</style>\n",
       "<table border=\"1\" class=\"dataframe\">\n",
       "  <thead>\n",
       "    <tr style=\"text-align: right;\">\n",
       "      <th></th>\n",
       "      <th>Date</th>\n",
       "      <th>Open</th>\n",
       "      <th>High</th>\n",
       "      <th>Low</th>\n",
       "      <th>Close</th>\n",
       "      <th>Adj Close</th>\n",
       "      <th>Volume</th>\n",
       "      <th>Stock Name</th>\n",
       "    </tr>\n",
       "  </thead>\n",
       "  <tbody>\n",
       "    <tr>\n",
       "      <th>0</th>\n",
       "      <td>2018-07-02</td>\n",
       "      <td>24.004667</td>\n",
       "      <td>24.318666</td>\n",
       "      <td>21.990000</td>\n",
       "      <td>22.337999</td>\n",
       "      <td>22.337999</td>\n",
       "      <td>281397000</td>\n",
       "      <td>TSLA</td>\n",
       "    </tr>\n",
       "    <tr>\n",
       "      <th>1</th>\n",
       "      <td>2018-07-03</td>\n",
       "      <td>22.116667</td>\n",
       "      <td>22.166000</td>\n",
       "      <td>20.646000</td>\n",
       "      <td>20.724001</td>\n",
       "      <td>20.724001</td>\n",
       "      <td>184239000</td>\n",
       "      <td>TSLA</td>\n",
       "    </tr>\n",
       "    <tr>\n",
       "      <th>2</th>\n",
       "      <td>2018-07-05</td>\n",
       "      <td>20.917334</td>\n",
       "      <td>20.959333</td>\n",
       "      <td>19.747999</td>\n",
       "      <td>20.610666</td>\n",
       "      <td>20.610666</td>\n",
       "      <td>262146000</td>\n",
       "      <td>TSLA</td>\n",
       "    </tr>\n",
       "    <tr>\n",
       "      <th>3</th>\n",
       "      <td>2018-07-06</td>\n",
       "      <td>20.330000</td>\n",
       "      <td>20.804667</td>\n",
       "      <td>20.133333</td>\n",
       "      <td>20.593332</td>\n",
       "      <td>20.593332</td>\n",
       "      <td>132982500</td>\n",
       "      <td>TSLA</td>\n",
       "    </tr>\n",
       "    <tr>\n",
       "      <th>4</th>\n",
       "      <td>2018-07-09</td>\n",
       "      <td>20.799334</td>\n",
       "      <td>21.234667</td>\n",
       "      <td>20.533333</td>\n",
       "      <td>21.233999</td>\n",
       "      <td>21.233999</td>\n",
       "      <td>113952000</td>\n",
       "      <td>TSLA</td>\n",
       "    </tr>\n",
       "  </tbody>\n",
       "</table>\n",
       "</div>"
      ],
      "text/plain": [
       "         Date       Open       High        Low      Close  Adj Close  \\\n",
       "0  2018-07-02  24.004667  24.318666  21.990000  22.337999  22.337999   \n",
       "1  2018-07-03  22.116667  22.166000  20.646000  20.724001  20.724001   \n",
       "2  2018-07-05  20.917334  20.959333  19.747999  20.610666  20.610666   \n",
       "3  2018-07-06  20.330000  20.804667  20.133333  20.593332  20.593332   \n",
       "4  2018-07-09  20.799334  21.234667  20.533333  21.233999  21.233999   \n",
       "\n",
       "      Volume Stock Name  \n",
       "0  281397000       TSLA  \n",
       "1  184239000       TSLA  \n",
       "2  262146000       TSLA  \n",
       "3  132982500       TSLA  \n",
       "4  113952000       TSLA  "
      ]
     },
     "execution_count": 125,
     "metadata": {},
     "output_type": "execute_result"
    }
   ],
   "source": [
    "print(Stock.shape)\n",
    "Stock.head()"
   ]
  },
  {
   "cell_type": "code",
   "execution_count": 79,
   "id": "a63a05d3",
   "metadata": {},
   "outputs": [
    {
     "data": {
      "text/plain": [
       "Stock Name\n",
       "TSLA    1498\n",
       "SMCI    1498\n",
       "AMZN    1498\n",
       "AVGO    1498\n",
       "ALB     1498\n",
       "AAPL    1498\n",
       "Name: count, dtype: int64"
      ]
     },
     "execution_count": 79,
     "metadata": {},
     "output_type": "execute_result"
    }
   ],
   "source": [
    "Stock['Stock Name'].value_counts()"
   ]
  },
  {
   "cell_type": "code",
   "execution_count": 49,
   "id": "fa51b52c",
   "metadata": {},
   "outputs": [
    {
     "data": {
      "text/plain": [
       "array(['TSLA', 'SMCI', 'AMZN', 'AVGO', 'ALB', 'AAPL'], dtype=object)"
      ]
     },
     "execution_count": 49,
     "metadata": {},
     "output_type": "execute_result"
    }
   ],
   "source": [
    "Stock['Stock Name'].unique()"
   ]
  },
  {
   "cell_type": "code",
   "execution_count": 131,
   "id": "32b087ec",
   "metadata": {},
   "outputs": [
    {
     "name": "stdout",
     "output_type": "stream",
     "text": [
      "(8988, 8)\n"
     ]
    },
    {
     "data": {
      "text/html": [
       "<div>\n",
       "<style scoped>\n",
       "    .dataframe tbody tr th:only-of-type {\n",
       "        vertical-align: middle;\n",
       "    }\n",
       "\n",
       "    .dataframe tbody tr th {\n",
       "        vertical-align: top;\n",
       "    }\n",
       "\n",
       "    .dataframe thead th {\n",
       "        text-align: right;\n",
       "    }\n",
       "</style>\n",
       "<table border=\"1\" class=\"dataframe\">\n",
       "  <thead>\n",
       "    <tr style=\"text-align: right;\">\n",
       "      <th></th>\n",
       "      <th>Date</th>\n",
       "      <th>Open</th>\n",
       "      <th>High</th>\n",
       "      <th>Low</th>\n",
       "      <th>Close</th>\n",
       "      <th>Adj Close</th>\n",
       "      <th>Volume</th>\n",
       "      <th>Stock Name</th>\n",
       "    </tr>\n",
       "  </thead>\n",
       "  <tbody>\n",
       "    <tr>\n",
       "      <th>0</th>\n",
       "      <td>2018-07-02</td>\n",
       "      <td>24.004667</td>\n",
       "      <td>24.318666</td>\n",
       "      <td>21.990000</td>\n",
       "      <td>22.337999</td>\n",
       "      <td>22.337999</td>\n",
       "      <td>281397000</td>\n",
       "      <td>TSLA</td>\n",
       "    </tr>\n",
       "    <tr>\n",
       "      <th>1</th>\n",
       "      <td>2018-07-03</td>\n",
       "      <td>22.116667</td>\n",
       "      <td>22.166000</td>\n",
       "      <td>20.646000</td>\n",
       "      <td>20.724001</td>\n",
       "      <td>20.724001</td>\n",
       "      <td>184239000</td>\n",
       "      <td>TSLA</td>\n",
       "    </tr>\n",
       "    <tr>\n",
       "      <th>2</th>\n",
       "      <td>2018-07-05</td>\n",
       "      <td>20.917334</td>\n",
       "      <td>20.959333</td>\n",
       "      <td>19.747999</td>\n",
       "      <td>20.610666</td>\n",
       "      <td>20.610666</td>\n",
       "      <td>262146000</td>\n",
       "      <td>TSLA</td>\n",
       "    </tr>\n",
       "    <tr>\n",
       "      <th>3</th>\n",
       "      <td>2018-07-06</td>\n",
       "      <td>20.330000</td>\n",
       "      <td>20.804667</td>\n",
       "      <td>20.133333</td>\n",
       "      <td>20.593332</td>\n",
       "      <td>20.593332</td>\n",
       "      <td>132982500</td>\n",
       "      <td>TSLA</td>\n",
       "    </tr>\n",
       "    <tr>\n",
       "      <th>4</th>\n",
       "      <td>2018-07-09</td>\n",
       "      <td>20.799334</td>\n",
       "      <td>21.234667</td>\n",
       "      <td>20.533333</td>\n",
       "      <td>21.233999</td>\n",
       "      <td>21.233999</td>\n",
       "      <td>113952000</td>\n",
       "      <td>TSLA</td>\n",
       "    </tr>\n",
       "  </tbody>\n",
       "</table>\n",
       "</div>"
      ],
      "text/plain": [
       "         Date       Open       High        Low      Close  Adj Close  \\\n",
       "0  2018-07-02  24.004667  24.318666  21.990000  22.337999  22.337999   \n",
       "1  2018-07-03  22.116667  22.166000  20.646000  20.724001  20.724001   \n",
       "2  2018-07-05  20.917334  20.959333  19.747999  20.610666  20.610666   \n",
       "3  2018-07-06  20.330000  20.804667  20.133333  20.593332  20.593332   \n",
       "4  2018-07-09  20.799334  21.234667  20.533333  21.233999  21.233999   \n",
       "\n",
       "      Volume Stock Name  \n",
       "0  281397000       TSLA  \n",
       "1  184239000       TSLA  \n",
       "2  262146000       TSLA  \n",
       "3  132982500       TSLA  \n",
       "4  113952000       TSLA  "
      ]
     },
     "execution_count": 131,
     "metadata": {},
     "output_type": "execute_result"
    }
   ],
   "source": [
    "Stock[\"Date\"]=pd.to_datetime(Stock[\"Date\"])\n",
    "Stock[\"Date\"]=Stock[\"Date\"].dt.date\n",
    "print(Stock.shape)\n",
    "Stock.head()"
   ]
  },
  {
   "cell_type": "markdown",
   "id": "43fa6753",
   "metadata": {},
   "source": [
    "# Sentiment Adjusted Moving Score Analysis for Apple"
   ]
  },
  {
   "cell_type": "code",
   "execution_count": 127,
   "id": "634e3640",
   "metadata": {},
   "outputs": [],
   "source": [
    "stk_name='AAPL'"
   ]
  },
  {
   "cell_type": "code",
   "execution_count": 128,
   "id": "32e68f61",
   "metadata": {},
   "outputs": [
    {
     "data": {
      "text/html": [
       "<div>\n",
       "<style scoped>\n",
       "    .dataframe tbody tr th:only-of-type {\n",
       "        vertical-align: middle;\n",
       "    }\n",
       "\n",
       "    .dataframe tbody tr th {\n",
       "        vertical-align: top;\n",
       "    }\n",
       "\n",
       "    .dataframe thead th {\n",
       "        text-align: right;\n",
       "    }\n",
       "</style>\n",
       "<table border=\"1\" class=\"dataframe\">\n",
       "  <thead>\n",
       "    <tr style=\"text-align: right;\">\n",
       "      <th></th>\n",
       "      <th>Date</th>\n",
       "      <th>Open</th>\n",
       "      <th>High</th>\n",
       "      <th>Low</th>\n",
       "      <th>Close</th>\n",
       "      <th>Adj Close</th>\n",
       "      <th>Volume</th>\n",
       "      <th>Stock Name</th>\n",
       "    </tr>\n",
       "  </thead>\n",
       "  <tbody>\n",
       "    <tr>\n",
       "      <th>0</th>\n",
       "      <td>2018-07-02</td>\n",
       "      <td>45.955002</td>\n",
       "      <td>46.825001</td>\n",
       "      <td>45.855000</td>\n",
       "      <td>46.794998</td>\n",
       "      <td>44.544914</td>\n",
       "      <td>70925200</td>\n",
       "      <td>AAPL</td>\n",
       "    </tr>\n",
       "    <tr>\n",
       "      <th>1</th>\n",
       "      <td>2018-07-03</td>\n",
       "      <td>46.947498</td>\n",
       "      <td>46.987499</td>\n",
       "      <td>45.884998</td>\n",
       "      <td>45.980000</td>\n",
       "      <td>43.769100</td>\n",
       "      <td>55819200</td>\n",
       "      <td>AAPL</td>\n",
       "    </tr>\n",
       "    <tr>\n",
       "      <th>2</th>\n",
       "      <td>2018-07-05</td>\n",
       "      <td>46.314999</td>\n",
       "      <td>46.602501</td>\n",
       "      <td>46.070000</td>\n",
       "      <td>46.349998</td>\n",
       "      <td>44.121304</td>\n",
       "      <td>66416800</td>\n",
       "      <td>AAPL</td>\n",
       "    </tr>\n",
       "    <tr>\n",
       "      <th>3</th>\n",
       "      <td>2018-07-06</td>\n",
       "      <td>46.355000</td>\n",
       "      <td>47.107498</td>\n",
       "      <td>46.299999</td>\n",
       "      <td>46.992500</td>\n",
       "      <td>44.732925</td>\n",
       "      <td>69940800</td>\n",
       "      <td>AAPL</td>\n",
       "    </tr>\n",
       "    <tr>\n",
       "      <th>4</th>\n",
       "      <td>2018-07-09</td>\n",
       "      <td>47.375000</td>\n",
       "      <td>47.669998</td>\n",
       "      <td>47.325001</td>\n",
       "      <td>47.645000</td>\n",
       "      <td>45.354042</td>\n",
       "      <td>79026400</td>\n",
       "      <td>AAPL</td>\n",
       "    </tr>\n",
       "  </tbody>\n",
       "</table>\n",
       "</div>"
      ],
      "text/plain": [
       "         Date       Open       High        Low      Close  Adj Close  \\\n",
       "0  2018-07-02  45.955002  46.825001  45.855000  46.794998  44.544914   \n",
       "1  2018-07-03  46.947498  46.987499  45.884998  45.980000  43.769100   \n",
       "2  2018-07-05  46.314999  46.602501  46.070000  46.349998  44.121304   \n",
       "3  2018-07-06  46.355000  47.107498  46.299999  46.992500  44.732925   \n",
       "4  2018-07-09  47.375000  47.669998  47.325001  47.645000  45.354042   \n",
       "\n",
       "     Volume Stock Name  \n",
       "0  70925200       AAPL  \n",
       "1  55819200       AAPL  \n",
       "2  66416800       AAPL  \n",
       "3  69940800       AAPL  \n",
       "4  79026400       AAPL  "
      ]
     },
     "execution_count": 128,
     "metadata": {},
     "output_type": "execute_result"
    }
   ],
   "source": [
    "stock = Stock[Stock[\"Stock Name\"] == stk_name]\n",
    "stock[\"Date\"] = pd.to_datetime(stock[\"Date\"])\n",
    "stock[\"Date\"] = stock[\"Date\"].dt.date\n",
    "# Reset the index of appl_stock\n",
    "stock.reset_index(drop=True, inplace=True)\n",
    "stock.head()"
   ]
  },
  {
   "cell_type": "code",
   "execution_count": 83,
   "id": "1a26b99b",
   "metadata": {},
   "outputs": [
    {
     "data": {
      "text/plain": [
       "(1498, 8)"
      ]
     },
     "execution_count": 83,
     "metadata": {},
     "output_type": "execute_result"
    }
   ],
   "source": [
    "stock.shape"
   ]
  },
  {
   "cell_type": "code",
   "execution_count": 129,
   "id": "9cbe25e0",
   "metadata": {},
   "outputs": [],
   "source": [
    "# Now filter the grouped DataFrame for rows where 'Stock Name' is 'AAPL'\n",
    "df = df_grouped[df_grouped['Stock Name'] == stk_name]\n",
    "# Reset the index of appl_df\n",
    "df.reset_index(drop=True, inplace=True)"
   ]
  },
  {
   "cell_type": "code",
   "execution_count": 130,
   "id": "016c8191",
   "metadata": {},
   "outputs": [
    {
     "name": "stdout",
     "output_type": "stream",
     "text": [
      "(289, 3)\n"
     ]
    },
    {
     "data": {
      "text/html": [
       "<div>\n",
       "<style scoped>\n",
       "    .dataframe tbody tr th:only-of-type {\n",
       "        vertical-align: middle;\n",
       "    }\n",
       "\n",
       "    .dataframe tbody tr th {\n",
       "        vertical-align: top;\n",
       "    }\n",
       "\n",
       "    .dataframe thead th {\n",
       "        text-align: right;\n",
       "    }\n",
       "</style>\n",
       "<table border=\"1\" class=\"dataframe\">\n",
       "  <thead>\n",
       "    <tr style=\"text-align: right;\">\n",
       "      <th></th>\n",
       "      <th>Date</th>\n",
       "      <th>Stock Name</th>\n",
       "      <th>polarity_score</th>\n",
       "    </tr>\n",
       "  </thead>\n",
       "  <tbody>\n",
       "    <tr>\n",
       "      <th>0</th>\n",
       "      <td>2020-01-02</td>\n",
       "      <td>AAPL</td>\n",
       "      <td>0.6369</td>\n",
       "    </tr>\n",
       "    <tr>\n",
       "      <th>1</th>\n",
       "      <td>2020-01-07</td>\n",
       "      <td>AAPL</td>\n",
       "      <td>0.4019</td>\n",
       "    </tr>\n",
       "    <tr>\n",
       "      <th>2</th>\n",
       "      <td>2020-01-13</td>\n",
       "      <td>AAPL</td>\n",
       "      <td>0.0</td>\n",
       "    </tr>\n",
       "    <tr>\n",
       "      <th>3</th>\n",
       "      <td>2020-01-14</td>\n",
       "      <td>AAPL</td>\n",
       "      <td>0.0</td>\n",
       "    </tr>\n",
       "    <tr>\n",
       "      <th>4</th>\n",
       "      <td>2020-01-16</td>\n",
       "      <td>AAPL</td>\n",
       "      <td>-0.7269</td>\n",
       "    </tr>\n",
       "  </tbody>\n",
       "</table>\n",
       "</div>"
      ],
      "text/plain": [
       "         Date Stock Name polarity_score\n",
       "0  2020-01-02       AAPL         0.6369\n",
       "1  2020-01-07       AAPL         0.4019\n",
       "2  2020-01-13       AAPL            0.0\n",
       "3  2020-01-14       AAPL            0.0\n",
       "4  2020-01-16       AAPL        -0.7269"
      ]
     },
     "execution_count": 130,
     "metadata": {},
     "output_type": "execute_result"
    }
   ],
   "source": [
    "print(df.shape)\n",
    "df.head()"
   ]
  },
  {
   "cell_type": "code",
   "execution_count": 135,
   "id": "73e9a6b2",
   "metadata": {},
   "outputs": [],
   "source": [
    "# Now perform the join operation\n",
    "df = stock.join(df.set_index([\"Date\", \"Stock Name\"]), on=[\"Date\", \"Stock Name\"], how=\"inner\")\n",
    "df.reset_index(drop=True, inplace=True)"
   ]
  },
  {
   "cell_type": "code",
   "execution_count": 136,
   "id": "feaec38c",
   "metadata": {},
   "outputs": [
    {
     "data": {
      "text/html": [
       "<div>\n",
       "<style scoped>\n",
       "    .dataframe tbody tr th:only-of-type {\n",
       "        vertical-align: middle;\n",
       "    }\n",
       "\n",
       "    .dataframe tbody tr th {\n",
       "        vertical-align: top;\n",
       "    }\n",
       "\n",
       "    .dataframe thead th {\n",
       "        text-align: right;\n",
       "    }\n",
       "</style>\n",
       "<table border=\"1\" class=\"dataframe\">\n",
       "  <thead>\n",
       "    <tr style=\"text-align: right;\">\n",
       "      <th></th>\n",
       "      <th>Date</th>\n",
       "      <th>Open</th>\n",
       "      <th>High</th>\n",
       "      <th>Low</th>\n",
       "      <th>Close</th>\n",
       "      <th>Adj Close</th>\n",
       "      <th>Volume</th>\n",
       "      <th>Stock Name</th>\n",
       "      <th>polarity_score</th>\n",
       "    </tr>\n",
       "  </thead>\n",
       "  <tbody>\n",
       "    <tr>\n",
       "      <th>0</th>\n",
       "      <td>2020-01-02</td>\n",
       "      <td>74.059998</td>\n",
       "      <td>75.150002</td>\n",
       "      <td>73.797501</td>\n",
       "      <td>75.087502</td>\n",
       "      <td>73.059425</td>\n",
       "      <td>135480400</td>\n",
       "      <td>AAPL</td>\n",
       "      <td>0.6369</td>\n",
       "    </tr>\n",
       "    <tr>\n",
       "      <th>1</th>\n",
       "      <td>2020-01-07</td>\n",
       "      <td>74.959999</td>\n",
       "      <td>75.224998</td>\n",
       "      <td>74.370003</td>\n",
       "      <td>74.597504</td>\n",
       "      <td>72.582664</td>\n",
       "      <td>108872000</td>\n",
       "      <td>AAPL</td>\n",
       "      <td>0.4019</td>\n",
       "    </tr>\n",
       "    <tr>\n",
       "      <th>2</th>\n",
       "      <td>2020-01-13</td>\n",
       "      <td>77.910004</td>\n",
       "      <td>79.267502</td>\n",
       "      <td>77.787498</td>\n",
       "      <td>79.239998</td>\n",
       "      <td>77.099754</td>\n",
       "      <td>121532000</td>\n",
       "      <td>AAPL</td>\n",
       "      <td>0.0</td>\n",
       "    </tr>\n",
       "    <tr>\n",
       "      <th>3</th>\n",
       "      <td>2020-01-14</td>\n",
       "      <td>79.175003</td>\n",
       "      <td>79.392502</td>\n",
       "      <td>78.042503</td>\n",
       "      <td>78.169998</td>\n",
       "      <td>76.058670</td>\n",
       "      <td>161954400</td>\n",
       "      <td>AAPL</td>\n",
       "      <td>0.0</td>\n",
       "    </tr>\n",
       "    <tr>\n",
       "      <th>4</th>\n",
       "      <td>2020-01-16</td>\n",
       "      <td>78.397499</td>\n",
       "      <td>78.925003</td>\n",
       "      <td>78.022499</td>\n",
       "      <td>78.809998</td>\n",
       "      <td>76.681396</td>\n",
       "      <td>108829200</td>\n",
       "      <td>AAPL</td>\n",
       "      <td>-0.7269</td>\n",
       "    </tr>\n",
       "  </tbody>\n",
       "</table>\n",
       "</div>"
      ],
      "text/plain": [
       "         Date       Open       High        Low      Close  Adj Close  \\\n",
       "0  2020-01-02  74.059998  75.150002  73.797501  75.087502  73.059425   \n",
       "1  2020-01-07  74.959999  75.224998  74.370003  74.597504  72.582664   \n",
       "2  2020-01-13  77.910004  79.267502  77.787498  79.239998  77.099754   \n",
       "3  2020-01-14  79.175003  79.392502  78.042503  78.169998  76.058670   \n",
       "4  2020-01-16  78.397499  78.925003  78.022499  78.809998  76.681396   \n",
       "\n",
       "      Volume Stock Name polarity_score  \n",
       "0  135480400       AAPL         0.6369  \n",
       "1  108872000       AAPL         0.4019  \n",
       "2  121532000       AAPL            0.0  \n",
       "3  161954400       AAPL            0.0  \n",
       "4  108829200       AAPL        -0.7269  "
      ]
     },
     "execution_count": 136,
     "metadata": {},
     "output_type": "execute_result"
    }
   ],
   "source": [
    "df.head()"
   ]
  },
  {
   "cell_type": "code",
   "execution_count": 137,
   "id": "8e9e01d9",
   "metadata": {},
   "outputs": [
    {
     "data": {
      "text/plain": [
       "(706, 9)"
      ]
     },
     "execution_count": 137,
     "metadata": {},
     "output_type": "execute_result"
    }
   ],
   "source": [
    "df.shape"
   ]
  },
  {
   "cell_type": "code",
   "execution_count": 138,
   "id": "a91c3a9a",
   "metadata": {},
   "outputs": [
    {
     "data": {
      "image/png": "[encoded data removed]",
      "text/plain": [
       "<Figure size 1500x800 with 1 Axes>"
      ]
     },
     "metadata": {},
     "output_type": "display_data"
    }
   ],
   "source": [
    "fig,ax = plt.subplots(figsize=(15,8))\n",
    "ax.plot(df[\"Date\"], df[\"Adj Close\"])\n",
    "ax.set(xlabel=\"Date\",ylabel=\"USD\",title=f\"{stk_name} Stock Price\")\n",
    "ax.xaxis.set_major_formatter(DateFormatter(\"%Y\"))\n",
    "plt.show()"
   ]
  },
  {
   "cell_type": "code",
   "execution_count": 139,
   "id": "86635c49",
   "metadata": {},
   "outputs": [
    {
     "data": {
      "image/png": "[encoded data removed]",
      "text/plain": [
       "<Figure size 1500x800 with 1 Axes>"
      ]
     },
     "metadata": {},
     "output_type": "display_data"
    }
   ],
   "source": [
    "fig,ax = plt.subplots(figsize=(15,8))\n",
    "ax.plot(df[\"Date\"], df[\"polarity_score\"])\n",
    "ax.set(xlabel=\"Date\",ylabel=\"polarity Score\",title=f\"{stk_name}'s Public Sentiment\")\n",
    "ax.xaxis.set_major_formatter(DateFormatter(\"%Y\"))\n",
    "plt.show()"
   ]
  },
  {
   "cell_type": "code",
   "execution_count": 141,
   "id": "9d6bc6e4",
   "metadata": {},
   "outputs": [],
   "source": [
    "def SentimentAdjustedMA(df, days):\n",
    "    def weight_multiplier(close,sent_score):\n",
    "        maxi = max(close)\n",
    "        mini = min(close)\n",
    "        len_close = len(close)\n",
    "        if len_close<2:\n",
    "            interval = math.sqrt(close[0])\n",
    "        else:\n",
    "            interval = statistics.variance(close)\n",
    "        max_var = interval\n",
    "        weighted=0\n",
    "        for i in range(len_close):\n",
    "            if sent_score[i] < 0:\n",
    "                weighted += close[i] + (2*sent_score[i]*max_var)\n",
    "            else:\n",
    "                weighted += close[i] + (sent_score[i]*max_var)\n",
    "        return weighted/len_close-1\n",
    "    samas = [df.loc[0,\"Adj Close\"]]\n",
    "    rows = df.shape[0]\n",
    "    for i in range(1,rows):\n",
    "        if i < days:\n",
    "            mini_df = df.iloc[:i+1,:]\n",
    "        elif i + days >= rows:\n",
    "            mini_df = df.iloc[i:,:]\n",
    "        else:\n",
    "            mini_df = df.iloc[i-days+1:i+1,:]\n",
    "        sama_value = weight_multiplier(mini_df[\"Adj Close\"].tolist(),mini_df[\"polarity_score\"].tolist())\n",
    "        samas.append(sama_value)\n",
    "    return samas"
   ]
  },
  {
   "cell_type": "code",
   "execution_count": 151,
   "id": "58b58632",
   "metadata": {},
   "outputs": [
    {
     "data": {
      "text/html": [
       "<div>\n",
       "<style scoped>\n",
       "    .dataframe tbody tr th:only-of-type {\n",
       "        vertical-align: middle;\n",
       "    }\n",
       "\n",
       "    .dataframe tbody tr th {\n",
       "        vertical-align: top;\n",
       "    }\n",
       "\n",
       "    .dataframe thead th {\n",
       "        text-align: right;\n",
       "    }\n",
       "</style>\n",
       "<table border=\"1\" class=\"dataframe\">\n",
       "  <thead>\n",
       "    <tr style=\"text-align: right;\">\n",
       "      <th></th>\n",
       "      <th>Date</th>\n",
       "      <th>Open</th>\n",
       "      <th>High</th>\n",
       "      <th>Low</th>\n",
       "      <th>Close</th>\n",
       "      <th>Adj Close</th>\n",
       "      <th>Volume</th>\n",
       "      <th>Stock Name</th>\n",
       "      <th>polarity_score</th>\n",
       "      <th>SMA(5)</th>\n",
       "      <th>SMA(20)</th>\n",
       "      <th>Signal</th>\n",
       "      <th>Order</th>\n",
       "      <th>Portfolio Value</th>\n",
       "      <th>SMA(10)</th>\n",
       "    </tr>\n",
       "  </thead>\n",
       "  <tbody>\n",
       "    <tr>\n",
       "      <th>0</th>\n",
       "      <td>2020-01-02</td>\n",
       "      <td>74.059998</td>\n",
       "      <td>75.150002</td>\n",
       "      <td>73.797501</td>\n",
       "      <td>75.087502</td>\n",
       "      <td>73.059425</td>\n",
       "      <td>135480400</td>\n",
       "      <td>AAPL</td>\n",
       "      <td>0.6369</td>\n",
       "      <td>73.059425</td>\n",
       "      <td>73.059425</td>\n",
       "      <td>0</td>\n",
       "      <td>NaN</td>\n",
       "      <td>1000.0</td>\n",
       "      <td>73.059425</td>\n",
       "    </tr>\n",
       "    <tr>\n",
       "      <th>1</th>\n",
       "      <td>2020-01-07</td>\n",
       "      <td>74.959999</td>\n",
       "      <td>75.224998</td>\n",
       "      <td>74.370003</td>\n",
       "      <td>74.597504</td>\n",
       "      <td>72.582664</td>\n",
       "      <td>108872000</td>\n",
       "      <td>AAPL</td>\n",
       "      <td>0.4019</td>\n",
       "      <td>71.880075</td>\n",
       "      <td>71.880075</td>\n",
       "      <td>0</td>\n",
       "      <td>0.0</td>\n",
       "      <td>1000.0</td>\n",
       "      <td>71.880075</td>\n",
       "    </tr>\n",
       "    <tr>\n",
       "      <th>2</th>\n",
       "      <td>2020-01-13</td>\n",
       "      <td>77.910004</td>\n",
       "      <td>79.267502</td>\n",
       "      <td>77.787498</td>\n",
       "      <td>79.239998</td>\n",
       "      <td>77.099754</td>\n",
       "      <td>121532000</td>\n",
       "      <td>AAPL</td>\n",
       "      <td>0.0</td>\n",
       "      <td>75.380034</td>\n",
       "      <td>75.380034</td>\n",
       "      <td>0</td>\n",
       "      <td>0.0</td>\n",
       "      <td>1000.0</td>\n",
       "      <td>75.380034</td>\n",
       "    </tr>\n",
       "    <tr>\n",
       "      <th>3</th>\n",
       "      <td>2020-01-14</td>\n",
       "      <td>79.175003</td>\n",
       "      <td>79.392502</td>\n",
       "      <td>78.042503</td>\n",
       "      <td>78.169998</td>\n",
       "      <td>76.058670</td>\n",
       "      <td>161954400</td>\n",
       "      <td>AAPL</td>\n",
       "      <td>0.0</td>\n",
       "      <td>74.979532</td>\n",
       "      <td>74.979532</td>\n",
       "      <td>0</td>\n",
       "      <td>0.0</td>\n",
       "      <td>1000.0</td>\n",
       "      <td>74.979532</td>\n",
       "    </tr>\n",
       "    <tr>\n",
       "      <th>4</th>\n",
       "      <td>2020-01-16</td>\n",
       "      <td>78.397499</td>\n",
       "      <td>78.925003</td>\n",
       "      <td>78.022499</td>\n",
       "      <td>78.809998</td>\n",
       "      <td>76.681396</td>\n",
       "      <td>108829200</td>\n",
       "      <td>AAPL</td>\n",
       "      <td>-0.7269</td>\n",
       "      <td>73.724548</td>\n",
       "      <td>73.724548</td>\n",
       "      <td>0</td>\n",
       "      <td>0.0</td>\n",
       "      <td>1000.0</td>\n",
       "      <td>73.724548</td>\n",
       "    </tr>\n",
       "  </tbody>\n",
       "</table>\n",
       "</div>"
      ],
      "text/plain": [
       "        Date       Open       High        Low      Close  Adj Close  \\\n",
       "0 2020-01-02  74.059998  75.150002  73.797501  75.087502  73.059425   \n",
       "1 2020-01-07  74.959999  75.224998  74.370003  74.597504  72.582664   \n",
       "2 2020-01-13  77.910004  79.267502  77.787498  79.239998  77.099754   \n",
       "3 2020-01-14  79.175003  79.392502  78.042503  78.169998  76.058670   \n",
       "4 2020-01-16  78.397499  78.925003  78.022499  78.809998  76.681396   \n",
       "\n",
       "      Volume Stock Name polarity_score     SMA(5)    SMA(20)  Signal  Order  \\\n",
       "0  135480400       AAPL         0.6369  73.059425  73.059425       0    NaN   \n",
       "1  108872000       AAPL         0.4019  71.880075  71.880075       0    0.0   \n",
       "2  121532000       AAPL            0.0  75.380034  75.380034       0    0.0   \n",
       "3  161954400       AAPL            0.0  74.979532  74.979532       0    0.0   \n",
       "4  108829200       AAPL        -0.7269  73.724548  73.724548       0    0.0   \n",
       "\n",
       "   Portfolio Value    SMA(10)  \n",
       "0           1000.0  73.059425  \n",
       "1           1000.0  71.880075  \n",
       "2           1000.0  75.380034  \n",
       "3           1000.0  74.979532  \n",
       "4           1000.0  73.724548  "
      ]
     },
     "execution_count": 151,
     "metadata": {},
     "output_type": "execute_result"
    }
   ],
   "source": [
    "sma5= SentimentAdjustedMA(df, days=5)\n",
    "df[\"SMA(5)\"] = sma5\n",
    "sma20= SentimentAdjustedMA(df, days=20)\n",
    "df[\"SMA(20)\"] = sma20\n",
    "df.head()"
   ]
  },
  {
   "cell_type": "code",
   "execution_count": 150,
   "id": "ac9d0528",
   "metadata": {},
   "outputs": [
    {
     "data": {
      "image/png": "[encoded data removed]",
      "text/plain": [
       "<Figure size 1500x800 with 1 Axes>"
      ]
     },
     "metadata": {},
     "output_type": "display_data"
    }
   ],
   "source": [
    "fig,ax = plt.subplots(figsize=(15,8))\n",
    "ax.plot(df[\"Date\"], df[\"SMA(5)\"], label=\"SMA(5)\", linestyle=\"--\", color=\"g\")\n",
    "ax.plot(df[\"Date\"], df[\"Adj Close\"], label=\"Original\", color=\"b\")\n",
    "ax.set(xlabel=\"Date\",ylabel=\"USD\",title=f\"{stk_name} Stock Price\")\n",
    "ax.xaxis.set_major_formatter(DateFormatter(\"%Y\"))\n",
    "plt.legend()\n",
    "plt.show()"
   ]
  },
  {
   "cell_type": "code",
   "execution_count": 159,
   "id": "5d66d13b",
   "metadata": {},
   "outputs": [],
   "source": [
    "# Sort the dataframe by the 'Date' column\n",
    "df = df.sort_values(by='Date')\n",
    "\n",
    "# Reset the index to keep the dataframe tidy\n",
    "df = df.reset_index(drop=True)"
   ]
  },
  {
   "cell_type": "markdown",
   "id": "3765a4f5",
   "metadata": {},
   "source": [
    "# Buy and Sell Signals"
   ]
  },
  {
   "cell_type": "code",
   "execution_count": 74,
   "id": "1a875771-dc7e-4403-9095-326b11fcf2b2",
   "metadata": {},
   "outputs": [],
   "source": [
    "import pandas as pd\n",
    "import numpy as np\n",
    "import matplotlib.pyplot as plt"
   ]
  },
  {
   "cell_type": "code",
   "execution_count": 77,
   "id": "2fff11a8-df69-4a6a-ac8a-f6bde17a5c70",
   "metadata": {},
   "outputs": [],
   "source": [
    "df=pd.read_csv('final_path')"
   ]
  },
  {
   "cell_type": "code",
   "execution_count": null,
   "id": "b686bc16",
   "metadata": {},
   "outputs": [],
   "source": [
    "# Generate signals based on polarity score and additional filter (SMA)\n",
    "def generate_signals(df):\n",
    "    df['SMA'] = df['Close'].rolling(window=20).mean()  # 20-day simple moving average\n",
    "    df['Signal'] = 0\n",
    "    df['Signal'] = np.where((df['polarity_score'] > 0) & (df['Close'] > df['SMA']), 1, df['Signal'])\n",
    "    df['Signal'] = np.where((df['polarity_score'] < 0) & (df['Close'] < df['SMA']), -1, df['Signal'])\n",
    "    df['Order'] = df['Signal'].diff()\n",
    "    return df"
   ]
  },
  {
   "cell_type": "code",
   "execution_count": null,
   "id": "a06e1226",
   "metadata": {},
   "outputs": [],
   "source": [
    "# Calculate returns and performance metrics with stop-loss, take-profit, and position sizing\n",
    "def calculate_performance(df, initial_cash=1000, stop_loss_pct=0.10, take_profit_pct=0.20, position_size_pct=0.20):\n",
    "    cash = initial_cash\n",
    "    position = 0\n",
    "    purchase_price = 0\n",
    "    portfolio_values = []\n",
    "    \n",
    "    for index, row in df.iterrows():\n",
    "        if row['Order'] == -1 and cash > 0:  # Buy signal\n",
    "            position = (cash * position_size_pct) / row['Close']\n",
    "            cash += position * row['Close']\n",
    "            purchase_price = row['Close']\n",
    "        elif row['Order'] == 1 and position > 0:  # Sell signal\n",
    "            cash -= position * row['Close']\n",
    "            position = 0\n",
    "        elif position > 0:\n",
    "            if row['Close'] < purchase_price * (1 - stop_loss_pct):  # Stop-loss condition\n",
    "                cash += position * row['Close']\n",
    "                position = 0\n",
    "                df.loc[index, 'Order'] = -1  # Mark this as a sell due to stop-loss\n",
    "            elif row['Close'] > purchase_price * (1 + take_profit_pct):  # Take-profit condition\n",
    "                cash += position * row['Close']\n",
    "                position = 0\n",
    "                df.loc[index, 'Order'] = -1  # Mark this as a sell due to take-profit\n",
    "\n",
    "        portfolio_value = cash + position * row['Close']\n",
    "        portfolio_values.append(portfolio_value)\n",
    "\n",
    "    df['Portfolio Value'] = portfolio_values\n",
    "    final_portfolio_value = portfolio_values[-1]\n",
    "    returns = df['Portfolio Value'].pct_change().dropna()\n",
    "    sharpe_ratio = (252**0.5) * returns.mean() / returns.std()  # Assuming 252 trading days in a year\n",
    "    total_trades = len(df[df['Order'].abs() == 1])\n",
    "    winning_trades = len(df[(df['Order'] == -1) & (df['Close'] > df['Close'].shift(1))])\n",
    "    win_ratio = winning_trades / total_trades if total_trades > 0 else 0\n",
    "    # Calculate maximum drawdown\n",
    "    rolling_max = df['Portfolio Value'].cummax()\n",
    "    drawdown = (df['Portfolio Value'] - rolling_max) / rolling_max\n",
    "    max_drawdown = drawdown.max()\n",
    "\n",
    "    performance = {\n",
    "        \"Final Portfolio Value\": final_portfolio_value,\n",
    "        \"Sharpe Ratio\": sharpe_ratio,\n",
    "        \"Number of Trades Executed\": total_trades,\n",
    "        \"Win Ratio\": win_ratio,\n",
    "        \"Maximum Drawdown\": max_drawdown\n",
    "    }\n",
    "\n",
    "    return performance\n",
    "\n"
   ]
  },
  {
   "cell_type": "code",
   "execution_count": null,
   "id": "03723000",
   "metadata": {},
   "outputs": [],
   "source": [
    "# Load your dataframe\n",
    "# Ensure that the 'Date' column is in datetime format and sort by date\n",
    "df['Date'] = pd.to_datetime(df['Date'])\n",
    "df = df.sort_values(by='Date')\n",
    "\n",
    "# Generate signals and calculate performance\n",
    "df = generate_signals(df)\n",
    "performance = calculate_performance(df)\n",
    "\n",
    "# Print performance metrics\n",
    "print(f\"Final Portfolio Value: ${performance['Final Portfolio Value']:.2f}\")\n",
    "print(f\"Sharpe Ratio: {performance['Sharpe Ratio']:.2f}\")\n",
    "print(f\"Number of Trades Executed: {performance['Number of Trades Executed']}\")\n",
    "print(f\"Win Ratio: {performance['Win Ratio']:.2f}\")\n",
    "print(f\"Maximum Drawdown: {performance['Maximum Drawdown']:.2f}\")\n",
    "\n"
   ]
  },
  {
   "cell_type": "code",
   "execution_count": null,
   "id": "16aa7191",
   "metadata": {},
   "outputs": [],
   "source": [
    "# Plotting\n",
    "plt.figure(figsize=(12, 6))\n",
    "plt.plot(df['Date'], df['Close'], label='Closing Price')\n",
    "\n",
    "# Plot buy signals\n",
    "buy_signals = df[df['Order'] == 1]\n",
    "plt.plot(buy_signals['Date'], buy_signals['Close'], '^', markersize=10, color='g', label='Buy Signal')\n",
    "\n",
    "# Plot sell signals\n",
    "sell_signals = df[df['Order'] == -1]\n",
    "plt.plot(sell_signals['Date'], sell_signals['Close'], 'v', markersize=10, color='r', label='Sell Signal')\n",
    "\n",
    "plt.title('Closing Price and Buy/Sell Signals')\n",
    "plt.xlabel('Date')\n",
    "plt.ylabel('Price')\n",
    "plt.legend()\n",
    "plt.show()\n",
    "\n",
    "# Plot portfolio value\n",
    "plt.figure(figsize=(12, 6))\n",
    "plt.plot(df['Date'], df['Portfolio Value'], label='Portfolio Value')\n",
    "plt.title('Portfolio Value Over Time')\n",
    "plt.xlabel('Date')\n",
    "plt.ylabel('Portfolio Value')\n",
    "plt.legend()\n",
    "plt.show()\n"
   ]
  }
 ],
 "metadata": {
  "kernelspec": {
   "display_name": "Python 3 (ipykernel)",
   "language": "python",
   "name": "python3"
  },
  "language_info": {
   "codemirror_mode": {
    "name": "ipython",
    "version": 3
   },
   "file_extension": ".py",
   "mimetype": "text/x-python",
   "name": "python",
   "nbconvert_exporter": "python",
   "pygments_lexer": "ipython3",
   "version": "3.11.5"
  }
 },
 "nbformat": 4,
 "nbformat_minor": 5
}
